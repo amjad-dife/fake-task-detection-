{
  "nbformat": 4,
  "nbformat_minor": 0,
  "metadata": {
    "colab": {
      "name": "G_18_Assignment2_v2.ipynb",
      "provenance": [],
      "collapsed_sections": []
    },
    "kernelspec": {
      "name": "python3",
      "display_name": "Python 3"
    },
    "language_info": {
      "name": "python"
    },
    "gpuClass": "standard"
  },
  "cells": [
    {
      "cell_type": "code",
      "execution_count": 1,
      "metadata": {
        "id": "JE97ZmsDc2SR",
        "colab": {
          "base_uri": "https://localhost:8080/",
          "height": 208
        },
        "outputId": "69792565-3c44-4fe1-c3ab-cfc7eb0cd167"
      },
      "outputs": [
        {
          "output_type": "stream",
          "name": "stdout",
          "text": [
            "Looking in indexes: https://pypi.org/simple, https://us-python.pkg.dev/colab-wheels/public/simple/\n",
            "Requirement already satisfied: imbalanced-learn in /usr/local/lib/python3.7/dist-packages (0.9.0)\n",
            "Collecting imbalanced-learn\n",
            "  Using cached imbalanced_learn-0.9.1-py3-none-any.whl (199 kB)\n",
            "Requirement already satisfied: threadpoolctl>=2.0.0 in /usr/local/lib/python3.7/dist-packages (from imbalanced-learn) (3.1.0)\n",
            "Requirement already satisfied: numpy>=1.14.6 in /usr/local/lib/python3.7/dist-packages (from imbalanced-learn) (1.21.6)\n",
            "Requirement already satisfied: scikit-learn>=1.0.1 in /usr/local/lib/python3.7/dist-packages (from imbalanced-learn) (1.0.2)\n",
            "Requirement already satisfied: scipy>=1.1.0 in /usr/local/lib/python3.7/dist-packages (from imbalanced-learn) (1.4.1)\n",
            "Requirement already satisfied: joblib>=0.11 in /usr/local/lib/python3.7/dist-packages (from imbalanced-learn) (1.1.0)\n"
          ]
        },
        {
          "output_type": "execute_result",
          "data": {
            "text/plain": [
              "<Figure size 720x360 with 0 Axes>"
            ]
          },
          "metadata": {},
          "execution_count": 1
        },
        {
          "output_type": "display_data",
          "data": {
            "text/plain": [
              "<Figure size 720x360 with 0 Axes>"
            ]
          },
          "metadata": {}
        }
      ],
      "source": [
        "import numpy as np\n",
        "import pandas as pd\n",
        "!pip install -U imbalanced-learn\n",
        "from sklearn.model_selection import train_test_split\n",
        "from sklearn.metrics import classification_report, ConfusionMatrixDisplay, accuracy_score, confusion_matrix\n",
        "from sklearn.naive_bayes import GaussianNB\n",
        "from sklearn.naive_bayes import BernoulliNB\n",
        "from sklearn.ensemble import AdaBoostClassifier\n",
        "import matplotlib.pyplot as plt\n",
        "%matplotlib inline\n",
        "from sklearn import metrics\n",
        "from sklearn.metrics import classification_report, ConfusionMatrixDisplay, accuracy_score, confusion_matrix\n",
        "from sklearn.datasets import make_classification, make_circles\n",
        "from sklearn.preprocessing import MultiLabelBinarizer\n",
        "import seaborn as sns\n",
        "import warnings\n",
        "from sklearn.ensemble import RandomForestClassifier\n",
        "warnings.filterwarnings(action='ignore')\n",
        "from collections import Counter\n",
        "from imblearn.over_sampling import RandomOverSampler\n",
        "from sklearn.ensemble import VotingClassifier\n",
        "from sklearn.metrics import accuracy_score\n",
        "plt.figure(figsize = (10, 5))\n"
      ]
    },
    {
      "cell_type": "code",
      "source": [
        "def getConfusionMatrix(model,X_test,y_test,title):\n",
        "    \"\"\"plot the confusion matrix of a model\n",
        "    Input: model, X_test, y_test\n",
        "    Output: print the confusion matrix\n",
        "    \"\"\"\n",
        "    predictions = model.predict(X_test)\n",
        "    cm = confusion_matrix(y_test, predictions, labels=model.classes_)\n",
        "    print(cm)\n",
        "    disp = ConfusionMatrixDisplay(confusion_matrix=cm,display_labels=model.classes_)\n",
        "    disp.plot()\n",
        "    plt.title(title)\n",
        "    plt.show()"
      ],
      "metadata": {
        "id": "zb247bkKjBDW"
      },
      "execution_count": 2,
      "outputs": []
    },
    {
      "cell_type": "markdown",
      "source": [
        "## 1.Use the provided dataset with fake tasks and legitimate tasks for this assignment"
      ],
      "metadata": {
        "id": "_Pc8dx44X9Ff"
      }
    },
    {
      "cell_type": "code",
      "source": [
        "#read dataset from csv\n",
        "\n",
        "dataset = pd.read_csv('MCSDatasetNEXTCONLab.csv')\n",
        "dataset.head(10)"
      ],
      "metadata": {
        "colab": {
          "base_uri": "https://localhost:8080/",
          "height": 363
        },
        "id": "s7ouxH5VjGyf",
        "outputId": "b57757ec-06c1-4d60-8ad6-056a94029dc1"
      },
      "execution_count": 3,
      "outputs": [
        {
          "output_type": "execute_result",
          "data": {
            "text/plain": [
              "   ID   Latitude  Longitude  Day  Hour  Minute  Duration  RemainingTime  \\\n",
              "0   1  45.442142 -75.303369    1     4      13        40             40   \n",
              "1   1  45.442154 -75.304366    1     4      23        40             30   \n",
              "2   1  45.442104 -75.303963    1     4      33        40             20   \n",
              "3   1  45.441868 -75.303577    1     4      43        40             10   \n",
              "4   2  45.447727 -75.147722    2    15      49        30             30   \n",
              "5   2  45.447747 -75.147951    2    15      59        30             20   \n",
              "6   2  45.447790 -75.148303    2    16       9        30             10   \n",
              "7   3  45.508896 -75.259807    2    12      27        30             30   \n",
              "8   3  45.508748 -75.260652    2    12      37        30             20   \n",
              "9   3  45.508082 -75.260380    2    12      47        30             10   \n",
              "\n",
              "   Resources  Coverage  OnPeakHours  GridNumber  Ligitimacy  \n",
              "0          9        91            0      131380           1  \n",
              "1          9        91            0      131380           1  \n",
              "2          9        91            0      121996           1  \n",
              "3          9        91            0      121996           1  \n",
              "4          5        47            0      140784           1  \n",
              "5          5        47            0      140784           1  \n",
              "6          5        47            0      140784           1  \n",
              "7          4        43            0      243994           1  \n",
              "8          4        43            0      243994           1  \n",
              "9          4        43            0      243994           1  "
            ],
            "text/html": [
              "\n",
              "  <div id=\"df-5f65fdb7-a96a-4378-af79-14e466e13718\">\n",
              "    <div class=\"colab-df-container\">\n",
              "      <div>\n",
              "<style scoped>\n",
              "    .dataframe tbody tr th:only-of-type {\n",
              "        vertical-align: middle;\n",
              "    }\n",
              "\n",
              "    .dataframe tbody tr th {\n",
              "        vertical-align: top;\n",
              "    }\n",
              "\n",
              "    .dataframe thead th {\n",
              "        text-align: right;\n",
              "    }\n",
              "</style>\n",
              "<table border=\"1\" class=\"dataframe\">\n",
              "  <thead>\n",
              "    <tr style=\"text-align: right;\">\n",
              "      <th></th>\n",
              "      <th>ID</th>\n",
              "      <th>Latitude</th>\n",
              "      <th>Longitude</th>\n",
              "      <th>Day</th>\n",
              "      <th>Hour</th>\n",
              "      <th>Minute</th>\n",
              "      <th>Duration</th>\n",
              "      <th>RemainingTime</th>\n",
              "      <th>Resources</th>\n",
              "      <th>Coverage</th>\n",
              "      <th>OnPeakHours</th>\n",
              "      <th>GridNumber</th>\n",
              "      <th>Ligitimacy</th>\n",
              "    </tr>\n",
              "  </thead>\n",
              "  <tbody>\n",
              "    <tr>\n",
              "      <th>0</th>\n",
              "      <td>1</td>\n",
              "      <td>45.442142</td>\n",
              "      <td>-75.303369</td>\n",
              "      <td>1</td>\n",
              "      <td>4</td>\n",
              "      <td>13</td>\n",
              "      <td>40</td>\n",
              "      <td>40</td>\n",
              "      <td>9</td>\n",
              "      <td>91</td>\n",
              "      <td>0</td>\n",
              "      <td>131380</td>\n",
              "      <td>1</td>\n",
              "    </tr>\n",
              "    <tr>\n",
              "      <th>1</th>\n",
              "      <td>1</td>\n",
              "      <td>45.442154</td>\n",
              "      <td>-75.304366</td>\n",
              "      <td>1</td>\n",
              "      <td>4</td>\n",
              "      <td>23</td>\n",
              "      <td>40</td>\n",
              "      <td>30</td>\n",
              "      <td>9</td>\n",
              "      <td>91</td>\n",
              "      <td>0</td>\n",
              "      <td>131380</td>\n",
              "      <td>1</td>\n",
              "    </tr>\n",
              "    <tr>\n",
              "      <th>2</th>\n",
              "      <td>1</td>\n",
              "      <td>45.442104</td>\n",
              "      <td>-75.303963</td>\n",
              "      <td>1</td>\n",
              "      <td>4</td>\n",
              "      <td>33</td>\n",
              "      <td>40</td>\n",
              "      <td>20</td>\n",
              "      <td>9</td>\n",
              "      <td>91</td>\n",
              "      <td>0</td>\n",
              "      <td>121996</td>\n",
              "      <td>1</td>\n",
              "    </tr>\n",
              "    <tr>\n",
              "      <th>3</th>\n",
              "      <td>1</td>\n",
              "      <td>45.441868</td>\n",
              "      <td>-75.303577</td>\n",
              "      <td>1</td>\n",
              "      <td>4</td>\n",
              "      <td>43</td>\n",
              "      <td>40</td>\n",
              "      <td>10</td>\n",
              "      <td>9</td>\n",
              "      <td>91</td>\n",
              "      <td>0</td>\n",
              "      <td>121996</td>\n",
              "      <td>1</td>\n",
              "    </tr>\n",
              "    <tr>\n",
              "      <th>4</th>\n",
              "      <td>2</td>\n",
              "      <td>45.447727</td>\n",
              "      <td>-75.147722</td>\n",
              "      <td>2</td>\n",
              "      <td>15</td>\n",
              "      <td>49</td>\n",
              "      <td>30</td>\n",
              "      <td>30</td>\n",
              "      <td>5</td>\n",
              "      <td>47</td>\n",
              "      <td>0</td>\n",
              "      <td>140784</td>\n",
              "      <td>1</td>\n",
              "    </tr>\n",
              "    <tr>\n",
              "      <th>5</th>\n",
              "      <td>2</td>\n",
              "      <td>45.447747</td>\n",
              "      <td>-75.147951</td>\n",
              "      <td>2</td>\n",
              "      <td>15</td>\n",
              "      <td>59</td>\n",
              "      <td>30</td>\n",
              "      <td>20</td>\n",
              "      <td>5</td>\n",
              "      <td>47</td>\n",
              "      <td>0</td>\n",
              "      <td>140784</td>\n",
              "      <td>1</td>\n",
              "    </tr>\n",
              "    <tr>\n",
              "      <th>6</th>\n",
              "      <td>2</td>\n",
              "      <td>45.447790</td>\n",
              "      <td>-75.148303</td>\n",
              "      <td>2</td>\n",
              "      <td>16</td>\n",
              "      <td>9</td>\n",
              "      <td>30</td>\n",
              "      <td>10</td>\n",
              "      <td>5</td>\n",
              "      <td>47</td>\n",
              "      <td>0</td>\n",
              "      <td>140784</td>\n",
              "      <td>1</td>\n",
              "    </tr>\n",
              "    <tr>\n",
              "      <th>7</th>\n",
              "      <td>3</td>\n",
              "      <td>45.508896</td>\n",
              "      <td>-75.259807</td>\n",
              "      <td>2</td>\n",
              "      <td>12</td>\n",
              "      <td>27</td>\n",
              "      <td>30</td>\n",
              "      <td>30</td>\n",
              "      <td>4</td>\n",
              "      <td>43</td>\n",
              "      <td>0</td>\n",
              "      <td>243994</td>\n",
              "      <td>1</td>\n",
              "    </tr>\n",
              "    <tr>\n",
              "      <th>8</th>\n",
              "      <td>3</td>\n",
              "      <td>45.508748</td>\n",
              "      <td>-75.260652</td>\n",
              "      <td>2</td>\n",
              "      <td>12</td>\n",
              "      <td>37</td>\n",
              "      <td>30</td>\n",
              "      <td>20</td>\n",
              "      <td>4</td>\n",
              "      <td>43</td>\n",
              "      <td>0</td>\n",
              "      <td>243994</td>\n",
              "      <td>1</td>\n",
              "    </tr>\n",
              "    <tr>\n",
              "      <th>9</th>\n",
              "      <td>3</td>\n",
              "      <td>45.508082</td>\n",
              "      <td>-75.260380</td>\n",
              "      <td>2</td>\n",
              "      <td>12</td>\n",
              "      <td>47</td>\n",
              "      <td>30</td>\n",
              "      <td>10</td>\n",
              "      <td>4</td>\n",
              "      <td>43</td>\n",
              "      <td>0</td>\n",
              "      <td>243994</td>\n",
              "      <td>1</td>\n",
              "    </tr>\n",
              "  </tbody>\n",
              "</table>\n",
              "</div>\n",
              "      <button class=\"colab-df-convert\" onclick=\"convertToInteractive('df-5f65fdb7-a96a-4378-af79-14e466e13718')\"\n",
              "              title=\"Convert this dataframe to an interactive table.\"\n",
              "              style=\"display:none;\">\n",
              "        \n",
              "  <svg xmlns=\"http://www.w3.org/2000/svg\" height=\"24px\"viewBox=\"0 0 24 24\"\n",
              "       width=\"24px\">\n",
              "    <path d=\"M0 0h24v24H0V0z\" fill=\"none\"/>\n",
              "    <path d=\"M18.56 5.44l.94 2.06.94-2.06 2.06-.94-2.06-.94-.94-2.06-.94 2.06-2.06.94zm-11 1L8.5 8.5l.94-2.06 2.06-.94-2.06-.94L8.5 2.5l-.94 2.06-2.06.94zm10 10l.94 2.06.94-2.06 2.06-.94-2.06-.94-.94-2.06-.94 2.06-2.06.94z\"/><path d=\"M17.41 7.96l-1.37-1.37c-.4-.4-.92-.59-1.43-.59-.52 0-1.04.2-1.43.59L10.3 9.45l-7.72 7.72c-.78.78-.78 2.05 0 2.83L4 21.41c.39.39.9.59 1.41.59.51 0 1.02-.2 1.41-.59l7.78-7.78 2.81-2.81c.8-.78.8-2.07 0-2.86zM5.41 20L4 18.59l7.72-7.72 1.47 1.35L5.41 20z\"/>\n",
              "  </svg>\n",
              "      </button>\n",
              "      \n",
              "  <style>\n",
              "    .colab-df-container {\n",
              "      display:flex;\n",
              "      flex-wrap:wrap;\n",
              "      gap: 12px;\n",
              "    }\n",
              "\n",
              "    .colab-df-convert {\n",
              "      background-color: #E8F0FE;\n",
              "      border: none;\n",
              "      border-radius: 50%;\n",
              "      cursor: pointer;\n",
              "      display: none;\n",
              "      fill: #1967D2;\n",
              "      height: 32px;\n",
              "      padding: 0 0 0 0;\n",
              "      width: 32px;\n",
              "    }\n",
              "\n",
              "    .colab-df-convert:hover {\n",
              "      background-color: #E2EBFA;\n",
              "      box-shadow: 0px 1px 2px rgba(60, 64, 67, 0.3), 0px 1px 3px 1px rgba(60, 64, 67, 0.15);\n",
              "      fill: #174EA6;\n",
              "    }\n",
              "\n",
              "    [theme=dark] .colab-df-convert {\n",
              "      background-color: #3B4455;\n",
              "      fill: #D2E3FC;\n",
              "    }\n",
              "\n",
              "    [theme=dark] .colab-df-convert:hover {\n",
              "      background-color: #434B5C;\n",
              "      box-shadow: 0px 1px 3px 1px rgba(0, 0, 0, 0.15);\n",
              "      filter: drop-shadow(0px 1px 2px rgba(0, 0, 0, 0.3));\n",
              "      fill: #FFFFFF;\n",
              "    }\n",
              "  </style>\n",
              "\n",
              "      <script>\n",
              "        const buttonEl =\n",
              "          document.querySelector('#df-5f65fdb7-a96a-4378-af79-14e466e13718 button.colab-df-convert');\n",
              "        buttonEl.style.display =\n",
              "          google.colab.kernel.accessAllowed ? 'block' : 'none';\n",
              "\n",
              "        async function convertToInteractive(key) {\n",
              "          const element = document.querySelector('#df-5f65fdb7-a96a-4378-af79-14e466e13718');\n",
              "          const dataTable =\n",
              "            await google.colab.kernel.invokeFunction('convertToInteractive',\n",
              "                                                     [key], {});\n",
              "          if (!dataTable) return;\n",
              "\n",
              "          const docLinkHtml = 'Like what you see? Visit the ' +\n",
              "            '<a target=\"_blank\" href=https://colab.research.google.com/notebooks/data_table.ipynb>data table notebook</a>'\n",
              "            + ' to learn more about interactive tables.';\n",
              "          element.innerHTML = '';\n",
              "          dataTable['output_type'] = 'display_data';\n",
              "          await google.colab.output.renderOutput(dataTable, element);\n",
              "          const docLink = document.createElement('div');\n",
              "          docLink.innerHTML = docLinkHtml;\n",
              "          element.appendChild(docLink);\n",
              "        }\n",
              "      </script>\n",
              "    </div>\n",
              "  </div>\n",
              "  "
            ]
          },
          "metadata": {},
          "execution_count": 3
        }
      ]
    },
    {
      "cell_type": "code",
      "source": [
        "def show_data_balanceing(title, lst_names, lst_cls ):\n",
        "  plt.bar(lst_names,lst_cls,width=0.3)\n",
        "  plt.title(title)\n",
        "  plt.xlabel('classes')\n",
        "  plt.xticks(ha='right')\n",
        "  plt.ylabel('frequenncy')\n",
        "  plt.show()"
      ],
      "metadata": {
        "id": "dIuJN7POLmYO"
      },
      "execution_count": 4,
      "outputs": []
    },
    {
      "cell_type": "code",
      "source": [
        "# showing the number of rows of target [0 or 1]\n",
        "dataset[\"Ligitimacy\"].value_counts()"
      ],
      "metadata": {
        "id": "oCB8zvRklCQe",
        "outputId": "a02a0d0a-0645-4f13-f27a-f8e8bdf635ba",
        "colab": {
          "base_uri": "https://localhost:8080/"
        }
      },
      "execution_count": 5,
      "outputs": [
        {
          "output_type": "execute_result",
          "data": {
            "text/plain": [
              "1    12587\n",
              "0     1897\n",
              "Name: Ligitimacy, dtype: int64"
            ]
          },
          "metadata": {},
          "execution_count": 5
        }
      ]
    },
    {
      "cell_type": "code",
      "source": [
        "dataset.shape"
      ],
      "metadata": {
        "colab": {
          "base_uri": "https://localhost:8080/"
        },
        "id": "axB8XnoXhbxb",
        "outputId": "6a5ceac4-5a2b-436d-9659-39b351d55478"
      },
      "execution_count": 6,
      "outputs": [
        {
          "output_type": "execute_result",
          "data": {
            "text/plain": [
              "(14484, 13)"
            ]
          },
          "metadata": {},
          "execution_count": 6
        }
      ]
    },
    {
      "cell_type": "code",
      "source": [
        "# visualize data balancing\n",
        "lstcount = [dataset[\"Ligitimacy\"].value_counts()[1],dataset[\"Ligitimacy\"].value_counts()[0]]\n",
        "show_data_balanceing(\"data before balancing\",['1','0'],lstcount)"
      ],
      "metadata": {
        "colab": {
          "base_uri": "https://localhost:8080/",
          "height": 295
        },
        "id": "pcLt1r_VNsc7",
        "outputId": "6eb835ce-0962-46cd-99c0-7c31a1c7031a"
      },
      "execution_count": 7,
      "outputs": [
        {
          "output_type": "display_data",
          "data": {
            "text/plain": [
              "<Figure size 432x288 with 1 Axes>"
            ],
            "image/png": "[encoded data removed]"
          },
          "metadata": {
            "needs_background": "light"
          }
        }
      ]
    },
    {
      "cell_type": "code",
      "source": [
        "#split the dataset into independent variables and target\n",
        "X=dataset.iloc[:,:-1]\n",
        "y=dataset.iloc[:,-1]"
      ],
      "metadata": {
        "id": "AxKYFgRblb9H"
      },
      "execution_count": 8,
      "outputs": []
    },
    {
      "cell_type": "code",
      "source": [
        "# define oversampling strategy\n",
        "oversample = RandomOverSampler(sampling_strategy='minority')\n",
        "# fit and apply the transform\n",
        "X_over, y_over = oversample.fit_resample(X, y)"
      ],
      "metadata": {
        "id": "B34mKoWGrICP"
      },
      "execution_count": 9,
      "outputs": []
    },
    {
      "cell_type": "code",
      "source": [
        "lstcount = [Counter(y_over)[0],Counter(y_over)[1]]\n",
        "show_data_balanceing(\"data after balancing\",['1','0'],lstcount)"
      ],
      "metadata": {
        "colab": {
          "base_uri": "https://localhost:8080/",
          "height": 295
        },
        "id": "0wNSAH2yLkd1",
        "outputId": "869641e1-1f77-45c3-c76d-29b7c61a50ae"
      },
      "execution_count": 10,
      "outputs": [
        {
          "output_type": "display_data",
          "data": {
            "text/plain": [
              "<Figure size 432x288 with 1 Axes>"
            ],
            "image/png": "[encoded data removed]"
          },
          "metadata": {
            "needs_background": "light"
          }
        }
      ]
    },
    {
      "cell_type": "code",
      "source": [
        "# showing target after balance on Target [Ligitimacy]\n",
        "print(Counter(y_over))"
      ],
      "metadata": {
        "id": "5YaK9HPmrwXd",
        "outputId": "23130d41-8f6c-472f-ab02-c1993aec1f44",
        "colab": {
          "base_uri": "https://localhost:8080/"
        }
      },
      "execution_count": 11,
      "outputs": [
        {
          "output_type": "stream",
          "name": "stdout",
          "text": [
            "Counter({1: 12587, 0: 12587})\n"
          ]
        }
      ]
    },
    {
      "cell_type": "markdown",
      "source": [
        "## 2.\tSplit the dataset into two for training (80%) and test (20%)"
      ],
      "metadata": {
        "id": "GQhtStm7dPhW"
      }
    },
    {
      "cell_type": "code",
      "source": [
        "#split dataset into trianing and testing with 80% training and 20% testing\n",
        "X_train, X_test, y_train, y_test = train_test_split( X_over, y_over, test_size=0.2, random_state=42)"
      ],
      "metadata": {
        "id": "7nwFJbE7jF21"
      },
      "execution_count": 12,
      "outputs": []
    },
    {
      "cell_type": "markdown",
      "source": [
        ""
      ],
      "metadata": {
        "id": "ayNXkxY2hHjM"
      }
    },
    {
      "cell_type": "markdown",
      "source": [
        "## 3.\tTrain individual MLs separately using training dataset."
      ],
      "metadata": {
        "id": "wUtgiBludijm"
      }
    },
    {
      "cell_type": "code",
      "source": [
        "#Random Forest Classifier\n",
        "#We got best performance at max_depth= 23\n",
        "RFclf = RandomForestClassifier(max_depth=23, random_state=0)\n",
        "RFclf.fit(X_train, y_train)\n",
        "\n",
        "# Testing accuracy of RF\n",
        "ypredRF_testing =RFclf.predict(X_test)\n",
        "\n",
        "# Training accuracy of RF is X\n",
        "ypredRF_training=RFclf.predict(X_train)\n",
        "\n",
        "#plot confusion matrix \n",
        "getConfusionMatrix(RFclf,X_test,y_test,\"Confusion Matrix for {}\".format(\"Random Forest Model\"))\n",
        "\n",
        "#Classification Report for Random Forest Model\n",
        "print('\\nClassification Report for Random Forest Model')\n",
        "print(classification_report(y_test, ypredRF_testing,  target_names = ['class 0','leg class 1']))"
      ],
      "metadata": {
        "id": "l3Up-uk0mRGb",
        "colab": {
          "base_uri": "https://localhost:8080/",
          "height": 521
        },
        "outputId": "8a59a836-a7f2-4cc5-fdfe-564cec61da9f"
      },
      "execution_count": 13,
      "outputs": [
        {
          "output_type": "stream",
          "name": "stdout",
          "text": [
            "[[2505    0]\n",
            " [   4 2526]]\n"
          ]
        },
        {
          "output_type": "display_data",
          "data": {
            "text/plain": [
              "<Figure size 432x288 with 2 Axes>"
            ],
            "image/png": "[encoded data removed]"
          },
          "metadata": {
            "needs_background": "light"
          }
        },
        {
          "output_type": "stream",
          "name": "stdout",
          "text": [
            "\n",
            "Classification Report for Random Forest Model\n",
            "              precision    recall  f1-score   support\n",
            "\n",
            "     class 0       1.00      1.00      1.00      2505\n",
            " leg class 1       1.00      1.00      1.00      2530\n",
            "\n",
            "    accuracy                           1.00      5035\n",
            "   macro avg       1.00      1.00      1.00      5035\n",
            "weighted avg       1.00      1.00      1.00      5035\n",
            "\n"
          ]
        }
      ]
    },
    {
      "cell_type": "code",
      "source": [
        "# Training accuracy of Random Forest\n",
        "X = accuracy_score(y_train , ypredRF_training)\n",
        "print(f'Training accuracy of Random Forest: {X}')"
      ],
      "metadata": {
        "colab": {
          "base_uri": "https://localhost:8080/"
        },
        "id": "zzHFOipTVB-b",
        "outputId": "5df36dba-6520-4bec-94ca-4ccfeb206d14"
      },
      "execution_count": 14,
      "outputs": [
        {
          "output_type": "stream",
          "name": "stdout",
          "text": [
            "Training accuracy of Random Forest: 1.0\n"
          ]
        }
      ]
    },
    {
      "cell_type": "code",
      "source": [
        "# testing accuracy of Random Forest\n",
        "RandomForest_test_acc = accuracy_score(y_test, ypredRF_testing)\n",
        "print(f'Testing accuracy of Random Forest: {RandomForest_test_acc}')"
      ],
      "metadata": {
        "colab": {
          "base_uri": "https://localhost:8080/"
        },
        "id": "jEh-7ALNzO72",
        "outputId": "5f775293-7691-475f-edc2-090a7b0d2a22"
      },
      "execution_count": 15,
      "outputs": [
        {
          "output_type": "stream",
          "name": "stdout",
          "text": [
            "Testing accuracy of Random Forest: 0.9992055610724926\n"
          ]
        }
      ]
    },
    {
      "cell_type": "code",
      "source": [
        "#AdaBoost Classifier\n",
        "#We got best performance at n_estimators=2380\n",
        "Adaclf = AdaBoostClassifier(n_estimators=2380, random_state=0)\n",
        "Adaclf.fit(X_train, y_train)\n",
        "#Testing accuracy of Adaboost \n",
        "ypredAda_testing=Adaclf.predict(X_test)\n",
        "#Training accuracy of Adaboost is Y\n",
        "ypredAda_training=Adaclf.predict(X_train)\n",
        "#plot confusion matrix \n",
        "getConfusionMatrix(Adaclf,X_test,y_test,\"Confusion Matrix for {}\".format(\"AdaBoost Model\"))\n",
        "#Classification Report for AdaBoost Model\n",
        "print('\\nClassification Report for AdaBoost Model')\n",
        "print(classification_report(y_test, ypredAda_testing,  target_names = ['class 0','leg class 1']))"
      ],
      "metadata": {
        "colab": {
          "base_uri": "https://localhost:8080/",
          "height": 521
        },
        "id": "1k8LlHs1knX-",
        "outputId": "5809c522-19a5-4c1a-cf20-bd36095f040c"
      },
      "execution_count": 16,
      "outputs": [
        {
          "output_type": "stream",
          "name": "stdout",
          "text": [
            "[[2505    0]\n",
            " [   7 2523]]\n"
          ]
        },
        {
          "output_type": "display_data",
          "data": {
            "text/plain": [
              "<Figure size 432x288 with 2 Axes>"
            ],
            "image/png": "[encoded data removed]"
          },
          "metadata": {
            "needs_background": "light"
          }
        },
        {
          "output_type": "stream",
          "name": "stdout",
          "text": [
            "\n",
            "Classification Report for AdaBoost Model\n",
            "              precision    recall  f1-score   support\n",
            "\n",
            "     class 0       1.00      1.00      1.00      2505\n",
            " leg class 1       1.00      1.00      1.00      2530\n",
            "\n",
            "    accuracy                           1.00      5035\n",
            "   macro avg       1.00      1.00      1.00      5035\n",
            "weighted avg       1.00      1.00      1.00      5035\n",
            "\n"
          ]
        }
      ]
    },
    {
      "cell_type": "code",
      "source": [
        "# Training accuracy of Adaboost\n",
        "Y = accuracy_score(y_train, ypredAda_training)\n",
        "print(f'Training accuracy of Adaboost: {Y}')"
      ],
      "metadata": {
        "colab": {
          "base_uri": "https://localhost:8080/"
        },
        "id": "k9higGnJyAye",
        "outputId": "e2fd4aeb-2ed2-4cde-fa3b-ebd8eabbecde"
      },
      "execution_count": 17,
      "outputs": [
        {
          "output_type": "stream",
          "name": "stdout",
          "text": [
            "Training accuracy of Adaboost: 1.0\n"
          ]
        }
      ]
    },
    {
      "cell_type": "code",
      "source": [
        "# testing accuracy of Adaboost\n",
        "adaBoost_test_acc = accuracy_score(y_test, ypredAda_testing)\n",
        "print(f'Testing accuracy of Adaboost: {adaBoost_test_acc}')\n"
      ],
      "metadata": {
        "colab": {
          "base_uri": "https://localhost:8080/"
        },
        "id": "aFTNEhy6Wdzx",
        "outputId": "308cbd61-7916-446f-9479-07413f011a48"
      },
      "execution_count": 18,
      "outputs": [
        {
          "output_type": "stream",
          "name": "stdout",
          "text": [
            "Testing accuracy of Adaboost: 0.998609731876862\n"
          ]
        }
      ]
    },
    {
      "cell_type": "code",
      "source": [
        "#Naive Bayes Bernoulli Classifier\n",
        "#we used Bernoulli here because our problem target is 0 or 1 (binary classification)\n",
        "#we also used Gaussian Naive Bayes classifier and we got the same accuracy\n",
        "Bernoulliclf = BernoulliNB()\n",
        "Bernoulliclf.fit(X_train, y_train)\n",
        "#Training accuracy of Naïve Bayes \n",
        "ypredBernoulli_testing=Bernoulliclf.predict(X_test)\n",
        "#Training accuracy of Naïve Bayes  is Z\n",
        "ypredBernoulli_training=Bernoulliclf.predict(X_train)\n",
        "\n",
        "#plot confusion matrix \n",
        "getConfusionMatrix(Bernoulliclf,X_test,y_test,\"Confusion Matrix for {}\".format(\"Bernoulli Naive Bayes Model\"))\n",
        "#Classification Report for Bernoulli Naive Bayes Model\n",
        "print('\\nClassification Report for Bernoulli Naive Bayes Model')\n",
        "print(classification_report(y_test, ypredBernoulli_testing,  target_names=  ['class 0','leg class 1']))\n"
      ],
      "metadata": {
        "colab": {
          "base_uri": "https://localhost:8080/",
          "height": 521
        },
        "id": "iAMXKUp1kpiu",
        "outputId": "b5c34813-8453-407c-d8a6-ae932223efed"
      },
      "execution_count": 19,
      "outputs": [
        {
          "output_type": "stream",
          "name": "stdout",
          "text": [
            "[[1198 1307]\n",
            " [ 355 2175]]\n"
          ]
        },
        {
          "output_type": "display_data",
          "data": {
            "text/plain": [
              "<Figure size 432x288 with 2 Axes>"
            ],
            "image/png": "[encoded data removed]"
          },
          "metadata": {
            "needs_background": "light"
          }
        },
        {
          "output_type": "stream",
          "name": "stdout",
          "text": [
            "\n",
            "Classification Report for Bernoulli Naive Bayes Model\n",
            "              precision    recall  f1-score   support\n",
            "\n",
            "     class 0       0.77      0.48      0.59      2505\n",
            " leg class 1       0.62      0.86      0.72      2530\n",
            "\n",
            "    accuracy                           0.67      5035\n",
            "   macro avg       0.70      0.67      0.66      5035\n",
            "weighted avg       0.70      0.67      0.66      5035\n",
            "\n"
          ]
        }
      ]
    },
    {
      "cell_type": "code",
      "source": [
        "# Training accuracy of Naive Bayes Bernoulli Classifier\n",
        "Z = accuracy_score(y_train, ypredBernoulli_training)\n",
        "print(f'Training accuracy of Naive Bayes Bernoulli Classifier: {Z}')"
      ],
      "metadata": {
        "colab": {
          "base_uri": "https://localhost:8080/"
        },
        "id": "vEjvbTm6XTO1",
        "outputId": "5f89a15d-9d93-4398-d3d2-a7d4115334e7"
      },
      "execution_count": 20,
      "outputs": [
        {
          "output_type": "stream",
          "name": "stdout",
          "text": [
            "Training accuracy of Naive Bayes Bernoulli Classifier: 0.6759521326778887\n"
          ]
        }
      ]
    },
    {
      "cell_type": "code",
      "source": [
        "# testing accuracy of Naive Bayes Bernoulli  \n",
        "NaiveBayes_test_acc = accuracy_score(y_test, ypredBernoulli_testing)\n",
        "print(f'Testing accuracy of Naive Bayes Bernoulli: {NaiveBayes_test_acc}')\n"
      ],
      "metadata": {
        "colab": {
          "base_uri": "https://localhost:8080/"
        },
        "id": "G8pOD2sWzjHf",
        "outputId": "5d398d1f-c831-416c-e32d-d44124addb09"
      },
      "execution_count": 21,
      "outputs": [
        {
          "output_type": "stream",
          "name": "stdout",
          "text": [
            "Testing accuracy of Naive Bayes Bernoulli: 0.6699106256206554\n"
          ]
        }
      ]
    },
    {
      "cell_type": "markdown",
      "source": [
        "## 5-Use the majority voting-based aggregator to make final decision for each task"
      ],
      "metadata": {
        "id": "uAS0n_bh6FYk"
      }
    },
    {
      "cell_type": "code",
      "source": [
        "# ypredRF_training, ypredAda, ypredBernoulli\n",
        "lstvoct = []\n",
        "AggOutputVotinglst = []\n",
        "for i in range(0,len(ypredAda_testing)):\n",
        "  sum = ypredRF_testing[i]+ ypredAda_testing [i] + ypredBernoulli_testing[i]\n",
        "  if (sum <= 1):\n",
        "    lstvoct.append(0)\n",
        "  else:\n",
        "    lstvoct.append(1)\n",
        "  AggOutputVotinglst.append(sum)"
      ],
      "metadata": {
        "id": "Zo7TE25tE93A"
      },
      "execution_count": 22,
      "outputs": []
    },
    {
      "cell_type": "code",
      "source": [
        "DF_voting = pd.DataFrame()\n",
        "DF_voting[\"Prediction of RF\"] = ypredRF_testing\n",
        "DF_voting[\"Prediction of Adaboost\"] = ypredAda_testing\n",
        "DF_voting[\"Prediction of NB\"] = ypredBernoulli_testing\n",
        "DF_voting[\"Aggregated output of voting\"] = AggOutputVotinglst\n",
        "DF_voting[\"Voting Result\"] = lstvoct\n",
        "display(DF_voting)"
      ],
      "metadata": {
        "colab": {
          "base_uri": "https://localhost:8080/",
          "height": 424
        },
        "id": "dp0L7PzeG2KQ",
        "outputId": "5aa89288-0bc7-4ad8-c696-1d7ece28a3b5"
      },
      "execution_count": 23,
      "outputs": [
        {
          "output_type": "display_data",
          "data": {
            "text/plain": [
              "      Prediction of RF  Prediction of Adaboost  Prediction of NB  \\\n",
              "0                    0                       0                 0   \n",
              "1                    0                       0                 0   \n",
              "2                    0                       0                 1   \n",
              "3                    1                       1                 1   \n",
              "4                    1                       1                 1   \n",
              "...                ...                     ...               ...   \n",
              "5030                 0                       0                 1   \n",
              "5031                 0                       0                 1   \n",
              "5032                 0                       0                 0   \n",
              "5033                 1                       1                 1   \n",
              "5034                 1                       1                 1   \n",
              "\n",
              "      Aggregated output of voting  Voting Result  \n",
              "0                               0              0  \n",
              "1                               0              0  \n",
              "2                               1              0  \n",
              "3                               3              1  \n",
              "4                               3              1  \n",
              "...                           ...            ...  \n",
              "5030                            1              0  \n",
              "5031                            1              0  \n",
              "5032                            0              0  \n",
              "5033                            3              1  \n",
              "5034                            3              1  \n",
              "\n",
              "[5035 rows x 5 columns]"
            ],
            "text/html": [
              "\n",
              "  <div id=\"df-aa5e0140-cc7b-416e-860f-3be93fcd56fa\">\n",
              "    <div class=\"colab-df-container\">\n",
              "      <div>\n",
              "<style scoped>\n",
              "    .dataframe tbody tr th:only-of-type {\n",
              "        vertical-align: middle;\n",
              "    }\n",
              "\n",
              "    .dataframe tbody tr th {\n",
              "        vertical-align: top;\n",
              "    }\n",
              "\n",
              "    .dataframe thead th {\n",
              "        text-align: right;\n",
              "    }\n",
              "</style>\n",
              "<table border=\"1\" class=\"dataframe\">\n",
              "  <thead>\n",
              "    <tr style=\"text-align: right;\">\n",
              "      <th></th>\n",
              "      <th>Prediction of RF</th>\n",
              "      <th>Prediction of Adaboost</th>\n",
              "      <th>Prediction of NB</th>\n",
              "      <th>Aggregated output of voting</th>\n",
              "      <th>Voting Result</th>\n",
              "    </tr>\n",
              "  </thead>\n",
              "  <tbody>\n",
              "    <tr>\n",
              "      <th>0</th>\n",
              "      <td>0</td>\n",
              "      <td>0</td>\n",
              "      <td>0</td>\n",
              "      <td>0</td>\n",
              "      <td>0</td>\n",
              "    </tr>\n",
              "    <tr>\n",
              "      <th>1</th>\n",
              "      <td>0</td>\n",
              "      <td>0</td>\n",
              "      <td>0</td>\n",
              "      <td>0</td>\n",
              "      <td>0</td>\n",
              "    </tr>\n",
              "    <tr>\n",
              "      <th>2</th>\n",
              "      <td>0</td>\n",
              "      <td>0</td>\n",
              "      <td>1</td>\n",
              "      <td>1</td>\n",
              "      <td>0</td>\n",
              "    </tr>\n",
              "    <tr>\n",
              "      <th>3</th>\n",
              "      <td>1</td>\n",
              "      <td>1</td>\n",
              "      <td>1</td>\n",
              "      <td>3</td>\n",
              "      <td>1</td>\n",
              "    </tr>\n",
              "    <tr>\n",
              "      <th>4</th>\n",
              "      <td>1</td>\n",
              "      <td>1</td>\n",
              "      <td>1</td>\n",
              "      <td>3</td>\n",
              "      <td>1</td>\n",
              "    </tr>\n",
              "    <tr>\n",
              "      <th>...</th>\n",
              "      <td>...</td>\n",
              "      <td>...</td>\n",
              "      <td>...</td>\n",
              "      <td>...</td>\n",
              "      <td>...</td>\n",
              "    </tr>\n",
              "    <tr>\n",
              "      <th>5030</th>\n",
              "      <td>0</td>\n",
              "      <td>0</td>\n",
              "      <td>1</td>\n",
              "      <td>1</td>\n",
              "      <td>0</td>\n",
              "    </tr>\n",
              "    <tr>\n",
              "      <th>5031</th>\n",
              "      <td>0</td>\n",
              "      <td>0</td>\n",
              "      <td>1</td>\n",
              "      <td>1</td>\n",
              "      <td>0</td>\n",
              "    </tr>\n",
              "    <tr>\n",
              "      <th>5032</th>\n",
              "      <td>0</td>\n",
              "      <td>0</td>\n",
              "      <td>0</td>\n",
              "      <td>0</td>\n",
              "      <td>0</td>\n",
              "    </tr>\n",
              "    <tr>\n",
              "      <th>5033</th>\n",
              "      <td>1</td>\n",
              "      <td>1</td>\n",
              "      <td>1</td>\n",
              "      <td>3</td>\n",
              "      <td>1</td>\n",
              "    </tr>\n",
              "    <tr>\n",
              "      <th>5034</th>\n",
              "      <td>1</td>\n",
              "      <td>1</td>\n",
              "      <td>1</td>\n",
              "      <td>3</td>\n",
              "      <td>1</td>\n",
              "    </tr>\n",
              "  </tbody>\n",
              "</table>\n",
              "<p>5035 rows × 5 columns</p>\n",
              "</div>\n",
              "      <button class=\"colab-df-convert\" onclick=\"convertToInteractive('df-aa5e0140-cc7b-416e-860f-3be93fcd56fa')\"\n",
              "              title=\"Convert this dataframe to an interactive table.\"\n",
              "              style=\"display:none;\">\n",
              "        \n",
              "  <svg xmlns=\"http://www.w3.org/2000/svg\" height=\"24px\"viewBox=\"0 0 24 24\"\n",
              "       width=\"24px\">\n",
              "    <path d=\"M0 0h24v24H0V0z\" fill=\"none\"/>\n",
              "    <path d=\"M18.56 5.44l.94 2.06.94-2.06 2.06-.94-2.06-.94-.94-2.06-.94 2.06-2.06.94zm-11 1L8.5 8.5l.94-2.06 2.06-.94-2.06-.94L8.5 2.5l-.94 2.06-2.06.94zm10 10l.94 2.06.94-2.06 2.06-.94-2.06-.94-.94-2.06-.94 2.06-2.06.94z\"/><path d=\"M17.41 7.96l-1.37-1.37c-.4-.4-.92-.59-1.43-.59-.52 0-1.04.2-1.43.59L10.3 9.45l-7.72 7.72c-.78.78-.78 2.05 0 2.83L4 21.41c.39.39.9.59 1.41.59.51 0 1.02-.2 1.41-.59l7.78-7.78 2.81-2.81c.8-.78.8-2.07 0-2.86zM5.41 20L4 18.59l7.72-7.72 1.47 1.35L5.41 20z\"/>\n",
              "  </svg>\n",
              "      </button>\n",
              "      \n",
              "  <style>\n",
              "    .colab-df-container {\n",
              "      display:flex;\n",
              "      flex-wrap:wrap;\n",
              "      gap: 12px;\n",
              "    }\n",
              "\n",
              "    .colab-df-convert {\n",
              "      background-color: #E8F0FE;\n",
              "      border: none;\n",
              "      border-radius: 50%;\n",
              "      cursor: pointer;\n",
              "      display: none;\n",
              "      fill: #1967D2;\n",
              "      height: 32px;\n",
              "      padding: 0 0 0 0;\n",
              "      width: 32px;\n",
              "    }\n",
              "\n",
              "    .colab-df-convert:hover {\n",
              "      background-color: #E2EBFA;\n",
              "      box-shadow: 0px 1px 2px rgba(60, 64, 67, 0.3), 0px 1px 3px 1px rgba(60, 64, 67, 0.15);\n",
              "      fill: #174EA6;\n",
              "    }\n",
              "\n",
              "    [theme=dark] .colab-df-convert {\n",
              "      background-color: #3B4455;\n",
              "      fill: #D2E3FC;\n",
              "    }\n",
              "\n",
              "    [theme=dark] .colab-df-convert:hover {\n",
              "      background-color: #434B5C;\n",
              "      box-shadow: 0px 1px 3px 1px rgba(0, 0, 0, 0.15);\n",
              "      filter: drop-shadow(0px 1px 2px rgba(0, 0, 0, 0.3));\n",
              "      fill: #FFFFFF;\n",
              "    }\n",
              "  </style>\n",
              "\n",
              "      <script>\n",
              "        const buttonEl =\n",
              "          document.querySelector('#df-aa5e0140-cc7b-416e-860f-3be93fcd56fa button.colab-df-convert');\n",
              "        buttonEl.style.display =\n",
              "          google.colab.kernel.accessAllowed ? 'block' : 'none';\n",
              "\n",
              "        async function convertToInteractive(key) {\n",
              "          const element = document.querySelector('#df-aa5e0140-cc7b-416e-860f-3be93fcd56fa');\n",
              "          const dataTable =\n",
              "            await google.colab.kernel.invokeFunction('convertToInteractive',\n",
              "                                                     [key], {});\n",
              "          if (!dataTable) return;\n",
              "\n",
              "          const docLinkHtml = 'Like what you see? Visit the ' +\n",
              "            '<a target=\"_blank\" href=https://colab.research.google.com/notebooks/data_table.ipynb>data table notebook</a>'\n",
              "            + ' to learn more about interactive tables.';\n",
              "          element.innerHTML = '';\n",
              "          dataTable['output_type'] = 'display_data';\n",
              "          await google.colab.output.renderOutput(dataTable, element);\n",
              "          const docLink = document.createElement('div');\n",
              "          docLink.innerHTML = docLinkHtml;\n",
              "          element.appendChild(docLink);\n",
              "        }\n",
              "      </script>\n",
              "    </div>\n",
              "  </div>\n",
              "  "
            ]
          },
          "metadata": {}
        }
      ]
    },
    {
      "cell_type": "code",
      "source": [
        "#Classification Report for Bernoulli Naive Bayes Model\n",
        "print('\\nClassification Report for Ensemble-vote')\n",
        "print(classification_report(y_test, lstvoct,  target_names=  ['class 0','leg class 1']))"
      ],
      "metadata": {
        "colab": {
          "base_uri": "https://localhost:8080/"
        },
        "id": "7L6sxsJv_xwX",
        "outputId": "d8aa230e-83ac-46fc-a428-3516383667df"
      },
      "execution_count": 24,
      "outputs": [
        {
          "output_type": "stream",
          "name": "stdout",
          "text": [
            "\n",
            "Classification Report for Ensemble-vote\n",
            "              precision    recall  f1-score   support\n",
            "\n",
            "     class 0       1.00      1.00      1.00      2505\n",
            " leg class 1       1.00      1.00      1.00      2530\n",
            "\n",
            "    accuracy                           1.00      5035\n",
            "   macro avg       1.00      1.00      1.00      5035\n",
            "weighted avg       1.00      1.00      1.00      5035\n",
            "\n"
          ]
        }
      ]
    },
    {
      "cell_type": "code",
      "source": [
        "# Testing accuracy of VotingClassifierModel\n",
        "Testing_accuracy_of_VotingClassifier= accuracy_score(y_test, lstvoct)\n",
        "print(f'Testing accuracy of Ensemble-vote: {Testing_accuracy_of_VotingClassifier}')"
      ],
      "metadata": {
        "colab": {
          "base_uri": "https://localhost:8080/"
        },
        "id": "R09-RRJRYIsU",
        "outputId": "e54dd66c-42c1-436a-c817-9b6cad27cc6c"
      },
      "execution_count": 25,
      "outputs": [
        {
          "output_type": "stream",
          "name": "stdout",
          "text": [
            "Testing accuracy of Ensemble-vote: 0.9992055610724926\n"
          ]
        }
      ]
    },
    {
      "cell_type": "markdown",
      "source": [
        "## 6. Use the weighted sum aggregation to make final decision for each task"
      ],
      "metadata": {
        "id": "fEkq7LlpX9p4"
      }
    },
    {
      "cell_type": "markdown",
      "source": [
        "### 1- Weighted sum of the classifier decisions"
      ],
      "metadata": {
        "id": "vKCafyymZOzX"
      }
    },
    {
      "cell_type": "code",
      "source": [
        "Total = X + Y + Z\n",
        "# The Weight of random forcest (wRF = X/(X+Y+Z))\n",
        "wRF = X / Total\n",
        "print(f'The Weight of random forcest(wRF)       : {wRF}')\n",
        "# The Weight of Adaboost (wAdaboost = Y/(X+Y+Z))\n",
        "wAdaboost = Y / Total\n",
        "print(f'The Weight of Adaboost(wAdaboost)       : {wAdaboost}')\n",
        "# The Weight of Naive Bayes Bernoulli (wNB = Z/(X+Y+Z))\n",
        "wNB = Z / Total\n",
        "print(f'The Weight of Naive Bayes Bernoulli(wNB): {wNB}')"
      ],
      "metadata": {
        "colab": {
          "base_uri": "https://localhost:8080/"
        },
        "id": "j3xo0rxlYDqK",
        "outputId": "756a054a-489b-43bd-854c-23c1409424f0"
      },
      "execution_count": 26,
      "outputs": [
        {
          "output_type": "stream",
          "name": "stdout",
          "text": [
            "The Weight of random forcest(wRF)       : 0.37369876231652777\n",
            "The Weight of Adaboost(wAdaboost)       : 0.37369876231652777\n",
            "The Weight of Naive Bayes Bernoulli(wNB): 0.25260247536694436\n"
          ]
        }
      ]
    },
    {
      "cell_type": "markdown",
      "source": [
        "### Aggregated output = PRF * wRF + PNB * wNB + PAdaboost * wAdaboost\n",
        "𝐹𝑖𝑛𝑎𝑙 𝐷𝑒𝑐𝑖𝑠𝑖𝑜𝑛 = \\\n",
        "1 (𝐿𝑒𝑔𝑖𝑡𝑖𝑚𝑎𝑡𝑒)  𝐼𝑓 (𝐴𝑔𝑔𝑟𝑒𝑔𝑎𝑡𝑒𝑑𝑂𝑢𝑡𝑝𝑢𝑡 > 0.5) \\\n",
        "0 (𝐹𝑎𝑘𝑒/𝐼𝑙𝑙𝑒𝑔𝑖𝑡𝑖𝑚𝑎𝑡𝑒) 𝑂𝑡ℎ𝑒𝑟𝑤𝑖𝑠𝑒 EFigure 1 Ensemble"
      ],
      "metadata": {
        "id": "rgLZQSoBhPyu"
      }
    },
    {
      "cell_type": "code",
      "source": [
        "# ypredRF_training, ypredAda, ypredBernoulli\n",
        "𝐹𝑖𝑛𝑎𝑙𝐷𝑒𝑐𝑖𝑠𝑖𝑜𝑛 = []\n",
        "AggOutputlst = []\n",
        "for i in range(0, len(ypredRF_testing)):\n",
        "  AggOutput = ypredRF_testing[i] * wRF + ypredAda_testing[i] * wAdaboost + ypredBernoulli_testing[i] * wNB \n",
        "  AggOutputlst.append(AggOutput)\n",
        "  if(AggOutput > 0.5):\n",
        "    𝐹𝑖𝑛𝑎𝑙𝐷𝑒𝑐𝑖𝑠𝑖𝑜𝑛.append(1)\n",
        "  else:\n",
        "    𝐹𝑖𝑛𝑎𝑙𝐷𝑒𝑐𝑖𝑠𝑖𝑜𝑛.append(0)"
      ],
      "metadata": {
        "id": "hVPrQNUKdCvk"
      },
      "execution_count": 27,
      "outputs": []
    },
    {
      "cell_type": "code",
      "source": [
        "DF = pd.DataFrame()\n",
        "DF[\"Prediction of RF\"] = ypredRF_testing\n",
        "DF[\"Prediction of Adaboost\"] = ypredAda_testing\n",
        "DF[\"Prediction of NB\"] = ypredBernoulli_testing\n",
        "DF[\"Aggregated output\"] = AggOutputlst\n",
        "DF[\"𝐹𝑖𝑛𝑎𝑙 𝐷𝑒𝑐𝑖𝑠𝑖𝑜𝑛\"] = 𝐹𝑖𝑛𝑎𝑙𝐷𝑒𝑐𝑖𝑠𝑖𝑜𝑛\n",
        "display(DF)"
      ],
      "metadata": {
        "colab": {
          "base_uri": "https://localhost:8080/",
          "height": 424
        },
        "id": "aeYk78LYi_Q-",
        "outputId": "0e5f9d53-edb1-4972-8a63-97303c07ae42"
      },
      "execution_count": 28,
      "outputs": [
        {
          "output_type": "display_data",
          "data": {
            "text/plain": [
              "      Prediction of RF  Prediction of Adaboost  Prediction of NB  \\\n",
              "0                    0                       0                 0   \n",
              "1                    0                       0                 0   \n",
              "2                    0                       0                 1   \n",
              "3                    1                       1                 1   \n",
              "4                    1                       1                 1   \n",
              "...                ...                     ...               ...   \n",
              "5030                 0                       0                 1   \n",
              "5031                 0                       0                 1   \n",
              "5032                 0                       0                 0   \n",
              "5033                 1                       1                 1   \n",
              "5034                 1                       1                 1   \n",
              "\n",
              "      Aggregated output  𝐹𝑖𝑛𝑎𝑙 𝐷𝑒𝑐𝑖𝑠𝑖𝑜𝑛  \n",
              "0              0.000000               0  \n",
              "1              0.000000               0  \n",
              "2              0.252602               0  \n",
              "3              1.000000               1  \n",
              "4              1.000000               1  \n",
              "...                 ...             ...  \n",
              "5030           0.252602               0  \n",
              "5031           0.252602               0  \n",
              "5032           0.000000               0  \n",
              "5033           1.000000               1  \n",
              "5034           1.000000               1  \n",
              "\n",
              "[5035 rows x 5 columns]"
            ],
            "text/html": [
              "\n",
              "  <div id=\"df-8923ab88-ff2d-4480-9cb4-e172427e225e\">\n",
              "    <div class=\"colab-df-container\">\n",
              "      <div>\n",
              "<style scoped>\n",
              "    .dataframe tbody tr th:only-of-type {\n",
              "        vertical-align: middle;\n",
              "    }\n",
              "\n",
              "    .dataframe tbody tr th {\n",
              "        vertical-align: top;\n",
              "    }\n",
              "\n",
              "    .dataframe thead th {\n",
              "        text-align: right;\n",
              "    }\n",
              "</style>\n",
              "<table border=\"1\" class=\"dataframe\">\n",
              "  <thead>\n",
              "    <tr style=\"text-align: right;\">\n",
              "      <th></th>\n",
              "      <th>Prediction of RF</th>\n",
              "      <th>Prediction of Adaboost</th>\n",
              "      <th>Prediction of NB</th>\n",
              "      <th>Aggregated output</th>\n",
              "      <th>𝐹𝑖𝑛𝑎𝑙 𝐷𝑒𝑐𝑖𝑠𝑖𝑜𝑛</th>\n",
              "    </tr>\n",
              "  </thead>\n",
              "  <tbody>\n",
              "    <tr>\n",
              "      <th>0</th>\n",
              "      <td>0</td>\n",
              "      <td>0</td>\n",
              "      <td>0</td>\n",
              "      <td>0.000000</td>\n",
              "      <td>0</td>\n",
              "    </tr>\n",
              "    <tr>\n",
              "      <th>1</th>\n",
              "      <td>0</td>\n",
              "      <td>0</td>\n",
              "      <td>0</td>\n",
              "      <td>0.000000</td>\n",
              "      <td>0</td>\n",
              "    </tr>\n",
              "    <tr>\n",
              "      <th>2</th>\n",
              "      <td>0</td>\n",
              "      <td>0</td>\n",
              "      <td>1</td>\n",
              "      <td>0.252602</td>\n",
              "      <td>0</td>\n",
              "    </tr>\n",
              "    <tr>\n",
              "      <th>3</th>\n",
              "      <td>1</td>\n",
              "      <td>1</td>\n",
              "      <td>1</td>\n",
              "      <td>1.000000</td>\n",
              "      <td>1</td>\n",
              "    </tr>\n",
              "    <tr>\n",
              "      <th>4</th>\n",
              "      <td>1</td>\n",
              "      <td>1</td>\n",
              "      <td>1</td>\n",
              "      <td>1.000000</td>\n",
              "      <td>1</td>\n",
              "    </tr>\n",
              "    <tr>\n",
              "      <th>...</th>\n",
              "      <td>...</td>\n",
              "      <td>...</td>\n",
              "      <td>...</td>\n",
              "      <td>...</td>\n",
              "      <td>...</td>\n",
              "    </tr>\n",
              "    <tr>\n",
              "      <th>5030</th>\n",
              "      <td>0</td>\n",
              "      <td>0</td>\n",
              "      <td>1</td>\n",
              "      <td>0.252602</td>\n",
              "      <td>0</td>\n",
              "    </tr>\n",
              "    <tr>\n",
              "      <th>5031</th>\n",
              "      <td>0</td>\n",
              "      <td>0</td>\n",
              "      <td>1</td>\n",
              "      <td>0.252602</td>\n",
              "      <td>0</td>\n",
              "    </tr>\n",
              "    <tr>\n",
              "      <th>5032</th>\n",
              "      <td>0</td>\n",
              "      <td>0</td>\n",
              "      <td>0</td>\n",
              "      <td>0.000000</td>\n",
              "      <td>0</td>\n",
              "    </tr>\n",
              "    <tr>\n",
              "      <th>5033</th>\n",
              "      <td>1</td>\n",
              "      <td>1</td>\n",
              "      <td>1</td>\n",
              "      <td>1.000000</td>\n",
              "      <td>1</td>\n",
              "    </tr>\n",
              "    <tr>\n",
              "      <th>5034</th>\n",
              "      <td>1</td>\n",
              "      <td>1</td>\n",
              "      <td>1</td>\n",
              "      <td>1.000000</td>\n",
              "      <td>1</td>\n",
              "    </tr>\n",
              "  </tbody>\n",
              "</table>\n",
              "<p>5035 rows × 5 columns</p>\n",
              "</div>\n",
              "      <button class=\"colab-df-convert\" onclick=\"convertToInteractive('df-8923ab88-ff2d-4480-9cb4-e172427e225e')\"\n",
              "              title=\"Convert this dataframe to an interactive table.\"\n",
              "              style=\"display:none;\">\n",
              "        \n",
              "  <svg xmlns=\"http://www.w3.org/2000/svg\" height=\"24px\"viewBox=\"0 0 24 24\"\n",
              "       width=\"24px\">\n",
              "    <path d=\"M0 0h24v24H0V0z\" fill=\"none\"/>\n",
              "    <path d=\"M18.56 5.44l.94 2.06.94-2.06 2.06-.94-2.06-.94-.94-2.06-.94 2.06-2.06.94zm-11 1L8.5 8.5l.94-2.06 2.06-.94-2.06-.94L8.5 2.5l-.94 2.06-2.06.94zm10 10l.94 2.06.94-2.06 2.06-.94-2.06-.94-.94-2.06-.94 2.06-2.06.94z\"/><path d=\"M17.41 7.96l-1.37-1.37c-.4-.4-.92-.59-1.43-.59-.52 0-1.04.2-1.43.59L10.3 9.45l-7.72 7.72c-.78.78-.78 2.05 0 2.83L4 21.41c.39.39.9.59 1.41.59.51 0 1.02-.2 1.41-.59l7.78-7.78 2.81-2.81c.8-.78.8-2.07 0-2.86zM5.41 20L4 18.59l7.72-7.72 1.47 1.35L5.41 20z\"/>\n",
              "  </svg>\n",
              "      </button>\n",
              "      \n",
              "  <style>\n",
              "    .colab-df-container {\n",
              "      display:flex;\n",
              "      flex-wrap:wrap;\n",
              "      gap: 12px;\n",
              "    }\n",
              "\n",
              "    .colab-df-convert {\n",
              "      background-color: #E8F0FE;\n",
              "      border: none;\n",
              "      border-radius: 50%;\n",
              "      cursor: pointer;\n",
              "      display: none;\n",
              "      fill: #1967D2;\n",
              "      height: 32px;\n",
              "      padding: 0 0 0 0;\n",
              "      width: 32px;\n",
              "    }\n",
              "\n",
              "    .colab-df-convert:hover {\n",
              "      background-color: #E2EBFA;\n",
              "      box-shadow: 0px 1px 2px rgba(60, 64, 67, 0.3), 0px 1px 3px 1px rgba(60, 64, 67, 0.15);\n",
              "      fill: #174EA6;\n",
              "    }\n",
              "\n",
              "    [theme=dark] .colab-df-convert {\n",
              "      background-color: #3B4455;\n",
              "      fill: #D2E3FC;\n",
              "    }\n",
              "\n",
              "    [theme=dark] .colab-df-convert:hover {\n",
              "      background-color: #434B5C;\n",
              "      box-shadow: 0px 1px 3px 1px rgba(0, 0, 0, 0.15);\n",
              "      filter: drop-shadow(0px 1px 2px rgba(0, 0, 0, 0.3));\n",
              "      fill: #FFFFFF;\n",
              "    }\n",
              "  </style>\n",
              "\n",
              "      <script>\n",
              "        const buttonEl =\n",
              "          document.querySelector('#df-8923ab88-ff2d-4480-9cb4-e172427e225e button.colab-df-convert');\n",
              "        buttonEl.style.display =\n",
              "          google.colab.kernel.accessAllowed ? 'block' : 'none';\n",
              "\n",
              "        async function convertToInteractive(key) {\n",
              "          const element = document.querySelector('#df-8923ab88-ff2d-4480-9cb4-e172427e225e');\n",
              "          const dataTable =\n",
              "            await google.colab.kernel.invokeFunction('convertToInteractive',\n",
              "                                                     [key], {});\n",
              "          if (!dataTable) return;\n",
              "\n",
              "          const docLinkHtml = 'Like what you see? Visit the ' +\n",
              "            '<a target=\"_blank\" href=https://colab.research.google.com/notebooks/data_table.ipynb>data table notebook</a>'\n",
              "            + ' to learn more about interactive tables.';\n",
              "          element.innerHTML = '';\n",
              "          dataTable['output_type'] = 'display_data';\n",
              "          await google.colab.output.renderOutput(dataTable, element);\n",
              "          const docLink = document.createElement('div');\n",
              "          docLink.innerHTML = docLinkHtml;\n",
              "          element.appendChild(docLink);\n",
              "        }\n",
              "      </script>\n",
              "    </div>\n",
              "  </div>\n",
              "  "
            ]
          },
          "metadata": {}
        }
      ]
    },
    {
      "cell_type": "code",
      "source": [
        "# Testing accuracy of Ensemble-Weighted\n",
        "EnsembleWeightedacc= accuracy_score(y_test, 𝐹𝑖𝑛𝑎𝑙𝐷𝑒𝑐𝑖𝑠𝑖𝑜𝑛)\n",
        "print(f'Testing accuracy of Ensemble-Weighted: {EnsembleWeightedacc}')"
      ],
      "metadata": {
        "colab": {
          "base_uri": "https://localhost:8080/"
        },
        "id": "rdjZB4i4kz3I",
        "outputId": "7a774f20-9b59-48db-f4f0-c171b0afa1d4"
      },
      "execution_count": 29,
      "outputs": [
        {
          "output_type": "stream",
          "name": "stdout",
          "text": [
            "Testing accuracy of Ensemble-Weighted: 0.9992055610724926\n"
          ]
        }
      ]
    },
    {
      "cell_type": "code",
      "source": [
        "#Classification Report for Ensemble-Weighted\n",
        "print('\\nClassification Report for Ensemble-Weighted')\n",
        "print(classification_report(y_test, 𝐹𝑖𝑛𝑎𝑙𝐷𝑒𝑐𝑖𝑠𝑖𝑜𝑛,  target_names=  ['class 0','leg class 1']))"
      ],
      "metadata": {
        "colab": {
          "base_uri": "https://localhost:8080/"
        },
        "id": "r6AIQw0MnRHM",
        "outputId": "d2adbc75-bf88-4d70-8e24-e97bff77398a"
      },
      "execution_count": 30,
      "outputs": [
        {
          "output_type": "stream",
          "name": "stdout",
          "text": [
            "\n",
            "Classification Report for Ensemble-Weighted\n",
            "              precision    recall  f1-score   support\n",
            "\n",
            "     class 0       1.00      1.00      1.00      2505\n",
            " leg class 1       1.00      1.00      1.00      2530\n",
            "\n",
            "    accuracy                           1.00      5035\n",
            "   macro avg       1.00      1.00      1.00      5035\n",
            "weighted avg       1.00      1.00      1.00      5035\n",
            "\n"
          ]
        }
      ]
    },
    {
      "cell_type": "markdown",
      "source": [
        "##7 .Compare the two ensemble framework performance to each other, and with individual MLs"
      ],
      "metadata": {
        "id": "4HaWJdBDnkuY"
      }
    },
    {
      "cell_type": "code",
      "source": [
        "def DrawBarChar(Algors_names, Algors_Accrs):\n",
        "  plt.bar(Algors_names, Algors_Accrs,width=.6)\n",
        "  plt.title('Accuracy comparison results ')\n",
        "  plt.xlabel('Models')\n",
        "  plt.xticks(rotation=60, ha='right')\n",
        "  plt.ylabel('Accuracy')\n",
        "  plt.show()"
      ],
      "metadata": {
        "id": "v0xL1FpNunTi"
      },
      "execution_count": 31,
      "outputs": []
    },
    {
      "cell_type": "code",
      "source": [
        "Algors = [\"Ensemble-vote\", \"Ensemble-Weighted\", \"Random Forcest Classifier\", \"AdaBoost Classifier\", \"Naive Bayes Bernoulli Classifier\"]\n",
        "Accrs = [Testing_accuracy_of_VotingClassifier, EnsembleWeightedacc, RandomForest_test_acc,adaBoost_test_acc,NaiveBayes_test_acc]\n"
      ],
      "metadata": {
        "id": "k9cpZV6GnpSH"
      },
      "execution_count": 32,
      "outputs": []
    },
    {
      "cell_type": "code",
      "source": [
        "#Compare the two ensemble framework performance\n",
        "DrawBarChar(Algors[:2] ,Accrs[:2])"
      ],
      "metadata": {
        "colab": {
          "base_uri": "https://localhost:8080/",
          "height": 377
        },
        "id": "CX7mcT5xqA9L",
        "outputId": "d413239f-f348-4e9b-a349-b0c77a394bb8"
      },
      "execution_count": 33,
      "outputs": [
        {
          "output_type": "display_data",
          "data": {
            "text/plain": [
              "<Figure size 432x288 with 1 Axes>"
            ],
            "image/png": "[encoded data removed]"
          },
          "metadata": {
            "needs_background": "light"
          }
        }
      ]
    },
    {
      "cell_type": "code",
      "source": [
        "lstTestingaccuracyEm = [Testing_accuracy_of_VotingClassifier, EnsembleWeightedacc]\n",
        "\n",
        "dfTwoEnsemble = pd.DataFrame(index=[\"Ensemble-vote\",\"Ensemble-Weighted\"])\n",
        "\n",
        "dfTwoEnsemble[\"Testing accuracy\"] = lstTestingaccuracyEm\n",
        "\n",
        "display(dfTwoEnsemble)"
      ],
      "metadata": {
        "colab": {
          "base_uri": "https://localhost:8080/",
          "height": 112
        },
        "id": "3blaOYCGndg3",
        "outputId": "b9fccfe4-e1a3-429c-cdd9-959f730f8dcc"
      },
      "execution_count": 34,
      "outputs": [
        {
          "output_type": "display_data",
          "data": {
            "text/plain": [
              "                   Testing accuracy\n",
              "Ensemble-vote              0.999206\n",
              "Ensemble-Weighted          0.999206"
            ],
            "text/html": [
              "\n",
              "  <div id=\"df-a3a52b32-1797-48df-91eb-783acc28b07e\">\n",
              "    <div class=\"colab-df-container\">\n",
              "      <div>\n",
              "<style scoped>\n",
              "    .dataframe tbody tr th:only-of-type {\n",
              "        vertical-align: middle;\n",
              "    }\n",
              "\n",
              "    .dataframe tbody tr th {\n",
              "        vertical-align: top;\n",
              "    }\n",
              "\n",
              "    .dataframe thead th {\n",
              "        text-align: right;\n",
              "    }\n",
              "</style>\n",
              "<table border=\"1\" class=\"dataframe\">\n",
              "  <thead>\n",
              "    <tr style=\"text-align: right;\">\n",
              "      <th></th>\n",
              "      <th>Testing accuracy</th>\n",
              "    </tr>\n",
              "  </thead>\n",
              "  <tbody>\n",
              "    <tr>\n",
              "      <th>Ensemble-vote</th>\n",
              "      <td>0.999206</td>\n",
              "    </tr>\n",
              "    <tr>\n",
              "      <th>Ensemble-Weighted</th>\n",
              "      <td>0.999206</td>\n",
              "    </tr>\n",
              "  </tbody>\n",
              "</table>\n",
              "</div>\n",
              "      <button class=\"colab-df-convert\" onclick=\"convertToInteractive('df-a3a52b32-1797-48df-91eb-783acc28b07e')\"\n",
              "              title=\"Convert this dataframe to an interactive table.\"\n",
              "              style=\"display:none;\">\n",
              "        \n",
              "  <svg xmlns=\"http://www.w3.org/2000/svg\" height=\"24px\"viewBox=\"0 0 24 24\"\n",
              "       width=\"24px\">\n",
              "    <path d=\"M0 0h24v24H0V0z\" fill=\"none\"/>\n",
              "    <path d=\"M18.56 5.44l.94 2.06.94-2.06 2.06-.94-2.06-.94-.94-2.06-.94 2.06-2.06.94zm-11 1L8.5 8.5l.94-2.06 2.06-.94-2.06-.94L8.5 2.5l-.94 2.06-2.06.94zm10 10l.94 2.06.94-2.06 2.06-.94-2.06-.94-.94-2.06-.94 2.06-2.06.94z\"/><path d=\"M17.41 7.96l-1.37-1.37c-.4-.4-.92-.59-1.43-.59-.52 0-1.04.2-1.43.59L10.3 9.45l-7.72 7.72c-.78.78-.78 2.05 0 2.83L4 21.41c.39.39.9.59 1.41.59.51 0 1.02-.2 1.41-.59l7.78-7.78 2.81-2.81c.8-.78.8-2.07 0-2.86zM5.41 20L4 18.59l7.72-7.72 1.47 1.35L5.41 20z\"/>\n",
              "  </svg>\n",
              "      </button>\n",
              "      \n",
              "  <style>\n",
              "    .colab-df-container {\n",
              "      display:flex;\n",
              "      flex-wrap:wrap;\n",
              "      gap: 12px;\n",
              "    }\n",
              "\n",
              "    .colab-df-convert {\n",
              "      background-color: #E8F0FE;\n",
              "      border: none;\n",
              "      border-radius: 50%;\n",
              "      cursor: pointer;\n",
              "      display: none;\n",
              "      fill: #1967D2;\n",
              "      height: 32px;\n",
              "      padding: 0 0 0 0;\n",
              "      width: 32px;\n",
              "    }\n",
              "\n",
              "    .colab-df-convert:hover {\n",
              "      background-color: #E2EBFA;\n",
              "      box-shadow: 0px 1px 2px rgba(60, 64, 67, 0.3), 0px 1px 3px 1px rgba(60, 64, 67, 0.15);\n",
              "      fill: #174EA6;\n",
              "    }\n",
              "\n",
              "    [theme=dark] .colab-df-convert {\n",
              "      background-color: #3B4455;\n",
              "      fill: #D2E3FC;\n",
              "    }\n",
              "\n",
              "    [theme=dark] .colab-df-convert:hover {\n",
              "      background-color: #434B5C;\n",
              "      box-shadow: 0px 1px 3px 1px rgba(0, 0, 0, 0.15);\n",
              "      filter: drop-shadow(0px 1px 2px rgba(0, 0, 0, 0.3));\n",
              "      fill: #FFFFFF;\n",
              "    }\n",
              "  </style>\n",
              "\n",
              "      <script>\n",
              "        const buttonEl =\n",
              "          document.querySelector('#df-a3a52b32-1797-48df-91eb-783acc28b07e button.colab-df-convert');\n",
              "        buttonEl.style.display =\n",
              "          google.colab.kernel.accessAllowed ? 'block' : 'none';\n",
              "\n",
              "        async function convertToInteractive(key) {\n",
              "          const element = document.querySelector('#df-a3a52b32-1797-48df-91eb-783acc28b07e');\n",
              "          const dataTable =\n",
              "            await google.colab.kernel.invokeFunction('convertToInteractive',\n",
              "                                                     [key], {});\n",
              "          if (!dataTable) return;\n",
              "\n",
              "          const docLinkHtml = 'Like what you see? Visit the ' +\n",
              "            '<a target=\"_blank\" href=https://colab.research.google.com/notebooks/data_table.ipynb>data table notebook</a>'\n",
              "            + ' to learn more about interactive tables.';\n",
              "          element.innerHTML = '';\n",
              "          dataTable['output_type'] = 'display_data';\n",
              "          await google.colab.output.renderOutput(dataTable, element);\n",
              "          const docLink = document.createElement('div');\n",
              "          docLink.innerHTML = docLinkHtml;\n",
              "          element.appendChild(docLink);\n",
              "        }\n",
              "      </script>\n",
              "    </div>\n",
              "  </div>\n",
              "  "
            ]
          },
          "metadata": {}
        }
      ]
    },
    {
      "cell_type": "code",
      "source": [
        "#Compare the two ensemble framework performance with Random Forcest Classifier\n",
        "DrawBarChar(Algors[:3] ,Accrs[:3])"
      ],
      "metadata": {
        "colab": {
          "base_uri": "https://localhost:8080/",
          "height": 402
        },
        "id": "zyBk7tkgvgcm",
        "outputId": "2c15822d-49d8-497a-b1f5-be68077e7065"
      },
      "execution_count": 35,
      "outputs": [
        {
          "output_type": "display_data",
          "data": {
            "text/plain": [
              "<Figure size 432x288 with 1 Axes>"
            ],
            "image/png": "[encoded data removed]"
          },
          "metadata": {
            "needs_background": "light"
          }
        }
      ]
    },
    {
      "cell_type": "code",
      "source": [
        "\n",
        "lstTestingaccuracyRF = [Testing_accuracy_of_VotingClassifier, EnsembleWeightedacc, RandomForest_test_acc]\n",
        "\n",
        "dfTwoEnsembleWithRF = pd.DataFrame(index=[\"Ensemble-vote\",\"Ensemble-Weighted\",\"Random Forcest Classifier\"])\n",
        "dfTwoEnsembleWithRF[\"Testing accuracy\"] = lstTestingaccuracyRF\n",
        "\n",
        "display(dfTwoEnsembleWithRF)"
      ],
      "metadata": {
        "colab": {
          "base_uri": "https://localhost:8080/",
          "height": 143
        },
        "id": "5f1BTkoom7ae",
        "outputId": "6d5afd8f-8ba2-49d3-b648-e3caadf90a32"
      },
      "execution_count": 36,
      "outputs": [
        {
          "output_type": "display_data",
          "data": {
            "text/plain": [
              "                           Testing accuracy\n",
              "Ensemble-vote                      0.999206\n",
              "Ensemble-Weighted                  0.999206\n",
              "Random Forcest Classifier          0.999206"
            ],
            "text/html": [
              "\n",
              "  <div id=\"df-d0d691dd-0b41-4a16-8d7d-299e79df8db3\">\n",
              "    <div class=\"colab-df-container\">\n",
              "      <div>\n",
              "<style scoped>\n",
              "    .dataframe tbody tr th:only-of-type {\n",
              "        vertical-align: middle;\n",
              "    }\n",
              "\n",
              "    .dataframe tbody tr th {\n",
              "        vertical-align: top;\n",
              "    }\n",
              "\n",
              "    .dataframe thead th {\n",
              "        text-align: right;\n",
              "    }\n",
              "</style>\n",
              "<table border=\"1\" class=\"dataframe\">\n",
              "  <thead>\n",
              "    <tr style=\"text-align: right;\">\n",
              "      <th></th>\n",
              "      <th>Testing accuracy</th>\n",
              "    </tr>\n",
              "  </thead>\n",
              "  <tbody>\n",
              "    <tr>\n",
              "      <th>Ensemble-vote</th>\n",
              "      <td>0.999206</td>\n",
              "    </tr>\n",
              "    <tr>\n",
              "      <th>Ensemble-Weighted</th>\n",
              "      <td>0.999206</td>\n",
              "    </tr>\n",
              "    <tr>\n",
              "      <th>Random Forcest Classifier</th>\n",
              "      <td>0.999206</td>\n",
              "    </tr>\n",
              "  </tbody>\n",
              "</table>\n",
              "</div>\n",
              "      <button class=\"colab-df-convert\" onclick=\"convertToInteractive('df-d0d691dd-0b41-4a16-8d7d-299e79df8db3')\"\n",
              "              title=\"Convert this dataframe to an interactive table.\"\n",
              "              style=\"display:none;\">\n",
              "        \n",
              "  <svg xmlns=\"http://www.w3.org/2000/svg\" height=\"24px\"viewBox=\"0 0 24 24\"\n",
              "       width=\"24px\">\n",
              "    <path d=\"M0 0h24v24H0V0z\" fill=\"none\"/>\n",
              "    <path d=\"M18.56 5.44l.94 2.06.94-2.06 2.06-.94-2.06-.94-.94-2.06-.94 2.06-2.06.94zm-11 1L8.5 8.5l.94-2.06 2.06-.94-2.06-.94L8.5 2.5l-.94 2.06-2.06.94zm10 10l.94 2.06.94-2.06 2.06-.94-2.06-.94-.94-2.06-.94 2.06-2.06.94z\"/><path d=\"M17.41 7.96l-1.37-1.37c-.4-.4-.92-.59-1.43-.59-.52 0-1.04.2-1.43.59L10.3 9.45l-7.72 7.72c-.78.78-.78 2.05 0 2.83L4 21.41c.39.39.9.59 1.41.59.51 0 1.02-.2 1.41-.59l7.78-7.78 2.81-2.81c.8-.78.8-2.07 0-2.86zM5.41 20L4 18.59l7.72-7.72 1.47 1.35L5.41 20z\"/>\n",
              "  </svg>\n",
              "      </button>\n",
              "      \n",
              "  <style>\n",
              "    .colab-df-container {\n",
              "      display:flex;\n",
              "      flex-wrap:wrap;\n",
              "      gap: 12px;\n",
              "    }\n",
              "\n",
              "    .colab-df-convert {\n",
              "      background-color: #E8F0FE;\n",
              "      border: none;\n",
              "      border-radius: 50%;\n",
              "      cursor: pointer;\n",
              "      display: none;\n",
              "      fill: #1967D2;\n",
              "      height: 32px;\n",
              "      padding: 0 0 0 0;\n",
              "      width: 32px;\n",
              "    }\n",
              "\n",
              "    .colab-df-convert:hover {\n",
              "      background-color: #E2EBFA;\n",
              "      box-shadow: 0px 1px 2px rgba(60, 64, 67, 0.3), 0px 1px 3px 1px rgba(60, 64, 67, 0.15);\n",
              "      fill: #174EA6;\n",
              "    }\n",
              "\n",
              "    [theme=dark] .colab-df-convert {\n",
              "      background-color: #3B4455;\n",
              "      fill: #D2E3FC;\n",
              "    }\n",
              "\n",
              "    [theme=dark] .colab-df-convert:hover {\n",
              "      background-color: #434B5C;\n",
              "      box-shadow: 0px 1px 3px 1px rgba(0, 0, 0, 0.15);\n",
              "      filter: drop-shadow(0px 1px 2px rgba(0, 0, 0, 0.3));\n",
              "      fill: #FFFFFF;\n",
              "    }\n",
              "  </style>\n",
              "\n",
              "      <script>\n",
              "        const buttonEl =\n",
              "          document.querySelector('#df-d0d691dd-0b41-4a16-8d7d-299e79df8db3 button.colab-df-convert');\n",
              "        buttonEl.style.display =\n",
              "          google.colab.kernel.accessAllowed ? 'block' : 'none';\n",
              "\n",
              "        async function convertToInteractive(key) {\n",
              "          const element = document.querySelector('#df-d0d691dd-0b41-4a16-8d7d-299e79df8db3');\n",
              "          const dataTable =\n",
              "            await google.colab.kernel.invokeFunction('convertToInteractive',\n",
              "                                                     [key], {});\n",
              "          if (!dataTable) return;\n",
              "\n",
              "          const docLinkHtml = 'Like what you see? Visit the ' +\n",
              "            '<a target=\"_blank\" href=https://colab.research.google.com/notebooks/data_table.ipynb>data table notebook</a>'\n",
              "            + ' to learn more about interactive tables.';\n",
              "          element.innerHTML = '';\n",
              "          dataTable['output_type'] = 'display_data';\n",
              "          await google.colab.output.renderOutput(dataTable, element);\n",
              "          const docLink = document.createElement('div');\n",
              "          docLink.innerHTML = docLinkHtml;\n",
              "          element.appendChild(docLink);\n",
              "        }\n",
              "      </script>\n",
              "    </div>\n",
              "  </div>\n",
              "  "
            ]
          },
          "metadata": {}
        }
      ]
    },
    {
      "cell_type": "code",
      "source": [
        "#Compare the two ensemble framework performance with AdaBoost Classifier\n",
        "lstlabels = [\"Ensemble-vote\", \"Ensemble-Weighted\", \"AdaBoost Classifier\"]\n",
        "lstAcrrs = [Testing_accuracy_of_VotingClassifier, EnsembleWeightedacc, adaBoost_test_acc]\n",
        "DrawBarChar(lstlabels,lstAcrrs)"
      ],
      "metadata": {
        "colab": {
          "base_uri": "https://localhost:8080/",
          "height": 377
        },
        "id": "AuBlbrJvv_wk",
        "outputId": "696b8557-c70e-4c11-9c07-8a7a2875db00"
      },
      "execution_count": 37,
      "outputs": [
        {
          "output_type": "display_data",
          "data": {
            "text/plain": [
              "<Figure size 432x288 with 1 Axes>"
            ],
            "image/png": "[encoded data removed]"
          },
          "metadata": {
            "needs_background": "light"
          }
        }
      ]
    },
    {
      "cell_type": "code",
      "source": [
        "lstTestingaccuracyAda = [Testing_accuracy_of_VotingClassifier, EnsembleWeightedacc, adaBoost_test_acc]\n",
        "dfTwoEnsembleWithAda = pd.DataFrame(index=[\"Ensemble-vote\",\"Ensemble-Weighted\",\"AdaBoost Classifier\"])\n",
        "dfTwoEnsembleWithAda[\"Testing accuracy\"] = lstTestingaccuracyAda\n",
        "display(dfTwoEnsembleWithAda)\n"
      ],
      "metadata": {
        "colab": {
          "base_uri": "https://localhost:8080/",
          "height": 143
        },
        "id": "f0XcG8iLHHnx",
        "outputId": "f407e333-7e18-4470-9908-cdb7b695b4b8"
      },
      "execution_count": 43,
      "outputs": [
        {
          "output_type": "display_data",
          "data": {
            "text/plain": [
              "                     Testing accuracy\n",
              "Ensemble-vote                0.999206\n",
              "Ensemble-Weighted            0.999206\n",
              "AdaBoost Classifier          0.998610"
            ],
            "text/html": [
              "\n",
              "  <div id=\"df-9744374b-eb1b-465b-85ac-f11615e0b2f8\">\n",
              "    <div class=\"colab-df-container\">\n",
              "      <div>\n",
              "<style scoped>\n",
              "    .dataframe tbody tr th:only-of-type {\n",
              "        vertical-align: middle;\n",
              "    }\n",
              "\n",
              "    .dataframe tbody tr th {\n",
              "        vertical-align: top;\n",
              "    }\n",
              "\n",
              "    .dataframe thead th {\n",
              "        text-align: right;\n",
              "    }\n",
              "</style>\n",
              "<table border=\"1\" class=\"dataframe\">\n",
              "  <thead>\n",
              "    <tr style=\"text-align: right;\">\n",
              "      <th></th>\n",
              "      <th>Testing accuracy</th>\n",
              "    </tr>\n",
              "  </thead>\n",
              "  <tbody>\n",
              "    <tr>\n",
              "      <th>Ensemble-vote</th>\n",
              "      <td>0.999206</td>\n",
              "    </tr>\n",
              "    <tr>\n",
              "      <th>Ensemble-Weighted</th>\n",
              "      <td>0.999206</td>\n",
              "    </tr>\n",
              "    <tr>\n",
              "      <th>AdaBoost Classifier</th>\n",
              "      <td>0.998610</td>\n",
              "    </tr>\n",
              "  </tbody>\n",
              "</table>\n",
              "</div>\n",
              "      <button class=\"colab-df-convert\" onclick=\"convertToInteractive('df-9744374b-eb1b-465b-85ac-f11615e0b2f8')\"\n",
              "              title=\"Convert this dataframe to an interactive table.\"\n",
              "              style=\"display:none;\">\n",
              "        \n",
              "  <svg xmlns=\"http://www.w3.org/2000/svg\" height=\"24px\"viewBox=\"0 0 24 24\"\n",
              "       width=\"24px\">\n",
              "    <path d=\"M0 0h24v24H0V0z\" fill=\"none\"/>\n",
              "    <path d=\"M18.56 5.44l.94 2.06.94-2.06 2.06-.94-2.06-.94-.94-2.06-.94 2.06-2.06.94zm-11 1L8.5 8.5l.94-2.06 2.06-.94-2.06-.94L8.5 2.5l-.94 2.06-2.06.94zm10 10l.94 2.06.94-2.06 2.06-.94-2.06-.94-.94-2.06-.94 2.06-2.06.94z\"/><path d=\"M17.41 7.96l-1.37-1.37c-.4-.4-.92-.59-1.43-.59-.52 0-1.04.2-1.43.59L10.3 9.45l-7.72 7.72c-.78.78-.78 2.05 0 2.83L4 21.41c.39.39.9.59 1.41.59.51 0 1.02-.2 1.41-.59l7.78-7.78 2.81-2.81c.8-.78.8-2.07 0-2.86zM5.41 20L4 18.59l7.72-7.72 1.47 1.35L5.41 20z\"/>\n",
              "  </svg>\n",
              "      </button>\n",
              "      \n",
              "  <style>\n",
              "    .colab-df-container {\n",
              "      display:flex;\n",
              "      flex-wrap:wrap;\n",
              "      gap: 12px;\n",
              "    }\n",
              "\n",
              "    .colab-df-convert {\n",
              "      background-color: #E8F0FE;\n",
              "      border: none;\n",
              "      border-radius: 50%;\n",
              "      cursor: pointer;\n",
              "      display: none;\n",
              "      fill: #1967D2;\n",
              "      height: 32px;\n",
              "      padding: 0 0 0 0;\n",
              "      width: 32px;\n",
              "    }\n",
              "\n",
              "    .colab-df-convert:hover {\n",
              "      background-color: #E2EBFA;\n",
              "      box-shadow: 0px 1px 2px rgba(60, 64, 67, 0.3), 0px 1px 3px 1px rgba(60, 64, 67, 0.15);\n",
              "      fill: #174EA6;\n",
              "    }\n",
              "\n",
              "    [theme=dark] .colab-df-convert {\n",
              "      background-color: #3B4455;\n",
              "      fill: #D2E3FC;\n",
              "    }\n",
              "\n",
              "    [theme=dark] .colab-df-convert:hover {\n",
              "      background-color: #434B5C;\n",
              "      box-shadow: 0px 1px 3px 1px rgba(0, 0, 0, 0.15);\n",
              "      filter: drop-shadow(0px 1px 2px rgba(0, 0, 0, 0.3));\n",
              "      fill: #FFFFFF;\n",
              "    }\n",
              "  </style>\n",
              "\n",
              "      <script>\n",
              "        const buttonEl =\n",
              "          document.querySelector('#df-9744374b-eb1b-465b-85ac-f11615e0b2f8 button.colab-df-convert');\n",
              "        buttonEl.style.display =\n",
              "          google.colab.kernel.accessAllowed ? 'block' : 'none';\n",
              "\n",
              "        async function convertToInteractive(key) {\n",
              "          const element = document.querySelector('#df-9744374b-eb1b-465b-85ac-f11615e0b2f8');\n",
              "          const dataTable =\n",
              "            await google.colab.kernel.invokeFunction('convertToInteractive',\n",
              "                                                     [key], {});\n",
              "          if (!dataTable) return;\n",
              "\n",
              "          const docLinkHtml = 'Like what you see? Visit the ' +\n",
              "            '<a target=\"_blank\" href=https://colab.research.google.com/notebooks/data_table.ipynb>data table notebook</a>'\n",
              "            + ' to learn more about interactive tables.';\n",
              "          element.innerHTML = '';\n",
              "          dataTable['output_type'] = 'display_data';\n",
              "          await google.colab.output.renderOutput(dataTable, element);\n",
              "          const docLink = document.createElement('div');\n",
              "          docLink.innerHTML = docLinkHtml;\n",
              "          element.appendChild(docLink);\n",
              "        }\n",
              "      </script>\n",
              "    </div>\n",
              "  </div>\n",
              "  "
            ]
          },
          "metadata": {}
        }
      ]
    },
    {
      "cell_type": "code",
      "source": [
        "#Compare the two ensemble framework performance with Naive Bayes Bernoulli Classifier\n",
        "lstlabels = [\"Ensemble-vote\", \"Ensemble-Weighted\", \"Naive Bayes Bernoulli Classifier\"]\n",
        "lstAcrrs = [Testing_accuracy_of_VotingClassifier, EnsembleWeightedacc, NaiveBayes_test_acc]\n",
        "DrawBarChar(lstlabels,lstAcrrs)"
      ],
      "metadata": {
        "colab": {
          "base_uri": "https://localhost:8080/",
          "height": 428
        },
        "id": "YSAScXUS1Zbb",
        "outputId": "d46e1343-e1fb-48fc-dd5f-3c451d78fbe4"
      },
      "execution_count": 39,
      "outputs": [
        {
          "output_type": "display_data",
          "data": {
            "text/plain": [
              "<Figure size 432x288 with 1 Axes>"
            ],
            "image/png": "[encoded data removed]"
          },
          "metadata": {
            "needs_background": "light"
          }
        }
      ]
    },
    {
      "cell_type": "code",
      "source": [
        "\n",
        "lstTestingaccuracyNB = [Testing_accuracy_of_VotingClassifier, EnsembleWeightedacc, NaiveBayes_test_acc]\n",
        "\n",
        "dfTwoEnsembleWithAda = pd.DataFrame(index=[\"Ensemble-vote\",\"Ensemble-Weighted\",\"Naive Bayes Bernoulli Classifier\"])\n",
        "dfTwoEnsembleWithAda[\"Testing accuracy\"] = lstTestingaccuracyNB\n",
        "display(dfTwoEnsembleWithAda)"
      ],
      "metadata": {
        "colab": {
          "base_uri": "https://localhost:8080/",
          "height": 143
        },
        "id": "ydA30Q09M0IX",
        "outputId": "a364a2f0-88ee-442b-88ef-3a22b97b2ae6"
      },
      "execution_count": 40,
      "outputs": [
        {
          "output_type": "display_data",
          "data": {
            "text/plain": [
              "                                  Testing accuracy\n",
              "Ensemble-vote                             0.999206\n",
              "Ensemble-Weighted                         0.999206\n",
              "Naive Bayes Bernoulli Classifier          0.669911"
            ],
            "text/html": [
              "\n",
              "  <div id=\"df-7b674f72-fc45-4c05-a2c8-8fa8d6a2e1a4\">\n",
              "    <div class=\"colab-df-container\">\n",
              "      <div>\n",
              "<style scoped>\n",
              "    .dataframe tbody tr th:only-of-type {\n",
              "        vertical-align: middle;\n",
              "    }\n",
              "\n",
              "    .dataframe tbody tr th {\n",
              "        vertical-align: top;\n",
              "    }\n",
              "\n",
              "    .dataframe thead th {\n",
              "        text-align: right;\n",
              "    }\n",
              "</style>\n",
              "<table border=\"1\" class=\"dataframe\">\n",
              "  <thead>\n",
              "    <tr style=\"text-align: right;\">\n",
              "      <th></th>\n",
              "      <th>Testing accuracy</th>\n",
              "    </tr>\n",
              "  </thead>\n",
              "  <tbody>\n",
              "    <tr>\n",
              "      <th>Ensemble-vote</th>\n",
              "      <td>0.999206</td>\n",
              "    </tr>\n",
              "    <tr>\n",
              "      <th>Ensemble-Weighted</th>\n",
              "      <td>0.999206</td>\n",
              "    </tr>\n",
              "    <tr>\n",
              "      <th>Naive Bayes Bernoulli Classifier</th>\n",
              "      <td>0.669911</td>\n",
              "    </tr>\n",
              "  </tbody>\n",
              "</table>\n",
              "</div>\n",
              "      <button class=\"colab-df-convert\" onclick=\"convertToInteractive('df-7b674f72-fc45-4c05-a2c8-8fa8d6a2e1a4')\"\n",
              "              title=\"Convert this dataframe to an interactive table.\"\n",
              "              style=\"display:none;\">\n",
              "        \n",
              "  <svg xmlns=\"http://www.w3.org/2000/svg\" height=\"24px\"viewBox=\"0 0 24 24\"\n",
              "       width=\"24px\">\n",
              "    <path d=\"M0 0h24v24H0V0z\" fill=\"none\"/>\n",
              "    <path d=\"M18.56 5.44l.94 2.06.94-2.06 2.06-.94-2.06-.94-.94-2.06-.94 2.06-2.06.94zm-11 1L8.5 8.5l.94-2.06 2.06-.94-2.06-.94L8.5 2.5l-.94 2.06-2.06.94zm10 10l.94 2.06.94-2.06 2.06-.94-2.06-.94-.94-2.06-.94 2.06-2.06.94z\"/><path d=\"M17.41 7.96l-1.37-1.37c-.4-.4-.92-.59-1.43-.59-.52 0-1.04.2-1.43.59L10.3 9.45l-7.72 7.72c-.78.78-.78 2.05 0 2.83L4 21.41c.39.39.9.59 1.41.59.51 0 1.02-.2 1.41-.59l7.78-7.78 2.81-2.81c.8-.78.8-2.07 0-2.86zM5.41 20L4 18.59l7.72-7.72 1.47 1.35L5.41 20z\"/>\n",
              "  </svg>\n",
              "      </button>\n",
              "      \n",
              "  <style>\n",
              "    .colab-df-container {\n",
              "      display:flex;\n",
              "      flex-wrap:wrap;\n",
              "      gap: 12px;\n",
              "    }\n",
              "\n",
              "    .colab-df-convert {\n",
              "      background-color: #E8F0FE;\n",
              "      border: none;\n",
              "      border-radius: 50%;\n",
              "      cursor: pointer;\n",
              "      display: none;\n",
              "      fill: #1967D2;\n",
              "      height: 32px;\n",
              "      padding: 0 0 0 0;\n",
              "      width: 32px;\n",
              "    }\n",
              "\n",
              "    .colab-df-convert:hover {\n",
              "      background-color: #E2EBFA;\n",
              "      box-shadow: 0px 1px 2px rgba(60, 64, 67, 0.3), 0px 1px 3px 1px rgba(60, 64, 67, 0.15);\n",
              "      fill: #174EA6;\n",
              "    }\n",
              "\n",
              "    [theme=dark] .colab-df-convert {\n",
              "      background-color: #3B4455;\n",
              "      fill: #D2E3FC;\n",
              "    }\n",
              "\n",
              "    [theme=dark] .colab-df-convert:hover {\n",
              "      background-color: #434B5C;\n",
              "      box-shadow: 0px 1px 3px 1px rgba(0, 0, 0, 0.15);\n",
              "      filter: drop-shadow(0px 1px 2px rgba(0, 0, 0, 0.3));\n",
              "      fill: #FFFFFF;\n",
              "    }\n",
              "  </style>\n",
              "\n",
              "      <script>\n",
              "        const buttonEl =\n",
              "          document.querySelector('#df-7b674f72-fc45-4c05-a2c8-8fa8d6a2e1a4 button.colab-df-convert');\n",
              "        buttonEl.style.display =\n",
              "          google.colab.kernel.accessAllowed ? 'block' : 'none';\n",
              "\n",
              "        async function convertToInteractive(key) {\n",
              "          const element = document.querySelector('#df-7b674f72-fc45-4c05-a2c8-8fa8d6a2e1a4');\n",
              "          const dataTable =\n",
              "            await google.colab.kernel.invokeFunction('convertToInteractive',\n",
              "                                                     [key], {});\n",
              "          if (!dataTable) return;\n",
              "\n",
              "          const docLinkHtml = 'Like what you see? Visit the ' +\n",
              "            '<a target=\"_blank\" href=https://colab.research.google.com/notebooks/data_table.ipynb>data table notebook</a>'\n",
              "            + ' to learn more about interactive tables.';\n",
              "          element.innerHTML = '';\n",
              "          dataTable['output_type'] = 'display_data';\n",
              "          await google.colab.output.renderOutput(dataTable, element);\n",
              "          const docLink = document.createElement('div');\n",
              "          docLink.innerHTML = docLinkHtml;\n",
              "          element.appendChild(docLink);\n",
              "        }\n",
              "      </script>\n",
              "    </div>\n",
              "  </div>\n",
              "  "
            ]
          },
          "metadata": {}
        }
      ]
    },
    {
      "cell_type": "markdown",
      "source": [
        "## 8. Plot a barchart figure to show accuracy comparison results"
      ],
      "metadata": {
        "id": "R9IM6pKI2G1v"
      }
    },
    {
      "cell_type": "code",
      "source": [
        "#Compare the two ensemble framework performance with Three Algors ML\n",
        "DrawBarChar(Algors,Accrs)"
      ],
      "metadata": {
        "colab": {
          "base_uri": "https://localhost:8080/",
          "height": 428
        },
        "id": "CjSwDqem2MY2",
        "outputId": "186de3bf-e84e-4b22-99e5-686ed2a3a0f3"
      },
      "execution_count": 41,
      "outputs": [
        {
          "output_type": "display_data",
          "data": {
            "text/plain": [
              "<Figure size 432x288 with 1 Axes>"
            ],
            "image/png": "[encoded data removed]"
          },
          "metadata": {
            "needs_background": "light"
          }
        }
      ]
    },
    {
      "cell_type": "code",
      "source": [
        "dfTwoEnsembleWiththree = pd.DataFrame(index= Algors)\n",
        "dfTwoEnsembleWiththree[\"Testing accuracy\"] = Accrs\n",
        "display(dfTwoEnsembleWiththree)"
      ],
      "metadata": {
        "colab": {
          "base_uri": "https://localhost:8080/",
          "height": 206
        },
        "id": "GhXfuOV-1vU1",
        "outputId": "09394f1a-2cb1-460d-c421-4f61de7325b6"
      },
      "execution_count": 42,
      "outputs": [
        {
          "output_type": "display_data",
          "data": {
            "text/plain": [
              "                                  Testing accuracy\n",
              "Ensemble-vote                             0.999206\n",
              "Ensemble-Weighted                         0.999206\n",
              "Random Forcest Classifier                 0.999206\n",
              "AdaBoost Classifier                       0.998610\n",
              "Naive Bayes Bernoulli Classifier          0.669911"
            ],
            "text/html": [
              "\n",
              "  <div id=\"df-410815c3-95cf-461d-a3e8-e9b8af032c07\">\n",
              "    <div class=\"colab-df-container\">\n",
              "      <div>\n",
              "<style scoped>\n",
              "    .dataframe tbody tr th:only-of-type {\n",
              "        vertical-align: middle;\n",
              "    }\n",
              "\n",
              "    .dataframe tbody tr th {\n",
              "        vertical-align: top;\n",
              "    }\n",
              "\n",
              "    .dataframe thead th {\n",
              "        text-align: right;\n",
              "    }\n",
              "</style>\n",
              "<table border=\"1\" class=\"dataframe\">\n",
              "  <thead>\n",
              "    <tr style=\"text-align: right;\">\n",
              "      <th></th>\n",
              "      <th>Testing accuracy</th>\n",
              "    </tr>\n",
              "  </thead>\n",
              "  <tbody>\n",
              "    <tr>\n",
              "      <th>Ensemble-vote</th>\n",
              "      <td>0.999206</td>\n",
              "    </tr>\n",
              "    <tr>\n",
              "      <th>Ensemble-Weighted</th>\n",
              "      <td>0.999206</td>\n",
              "    </tr>\n",
              "    <tr>\n",
              "      <th>Random Forcest Classifier</th>\n",
              "      <td>0.999206</td>\n",
              "    </tr>\n",
              "    <tr>\n",
              "      <th>AdaBoost Classifier</th>\n",
              "      <td>0.998610</td>\n",
              "    </tr>\n",
              "    <tr>\n",
              "      <th>Naive Bayes Bernoulli Classifier</th>\n",
              "      <td>0.669911</td>\n",
              "    </tr>\n",
              "  </tbody>\n",
              "</table>\n",
              "</div>\n",
              "      <button class=\"colab-df-convert\" onclick=\"convertToInteractive('df-410815c3-95cf-461d-a3e8-e9b8af032c07')\"\n",
              "              title=\"Convert this dataframe to an interactive table.\"\n",
              "              style=\"display:none;\">\n",
              "        \n",
              "  <svg xmlns=\"http://www.w3.org/2000/svg\" height=\"24px\"viewBox=\"0 0 24 24\"\n",
              "       width=\"24px\">\n",
              "    <path d=\"M0 0h24v24H0V0z\" fill=\"none\"/>\n",
              "    <path d=\"M18.56 5.44l.94 2.06.94-2.06 2.06-.94-2.06-.94-.94-2.06-.94 2.06-2.06.94zm-11 1L8.5 8.5l.94-2.06 2.06-.94-2.06-.94L8.5 2.5l-.94 2.06-2.06.94zm10 10l.94 2.06.94-2.06 2.06-.94-2.06-.94-.94-2.06-.94 2.06-2.06.94z\"/><path d=\"M17.41 7.96l-1.37-1.37c-.4-.4-.92-.59-1.43-.59-.52 0-1.04.2-1.43.59L10.3 9.45l-7.72 7.72c-.78.78-.78 2.05 0 2.83L4 21.41c.39.39.9.59 1.41.59.51 0 1.02-.2 1.41-.59l7.78-7.78 2.81-2.81c.8-.78.8-2.07 0-2.86zM5.41 20L4 18.59l7.72-7.72 1.47 1.35L5.41 20z\"/>\n",
              "  </svg>\n",
              "      </button>\n",
              "      \n",
              "  <style>\n",
              "    .colab-df-container {\n",
              "      display:flex;\n",
              "      flex-wrap:wrap;\n",
              "      gap: 12px;\n",
              "    }\n",
              "\n",
              "    .colab-df-convert {\n",
              "      background-color: #E8F0FE;\n",
              "      border: none;\n",
              "      border-radius: 50%;\n",
              "      cursor: pointer;\n",
              "      display: none;\n",
              "      fill: #1967D2;\n",
              "      height: 32px;\n",
              "      padding: 0 0 0 0;\n",
              "      width: 32px;\n",
              "    }\n",
              "\n",
              "    .colab-df-convert:hover {\n",
              "      background-color: #E2EBFA;\n",
              "      box-shadow: 0px 1px 2px rgba(60, 64, 67, 0.3), 0px 1px 3px 1px rgba(60, 64, 67, 0.15);\n",
              "      fill: #174EA6;\n",
              "    }\n",
              "\n",
              "    [theme=dark] .colab-df-convert {\n",
              "      background-color: #3B4455;\n",
              "      fill: #D2E3FC;\n",
              "    }\n",
              "\n",
              "    [theme=dark] .colab-df-convert:hover {\n",
              "      background-color: #434B5C;\n",
              "      box-shadow: 0px 1px 3px 1px rgba(0, 0, 0, 0.15);\n",
              "      filter: drop-shadow(0px 1px 2px rgba(0, 0, 0, 0.3));\n",
              "      fill: #FFFFFF;\n",
              "    }\n",
              "  </style>\n",
              "\n",
              "      <script>\n",
              "        const buttonEl =\n",
              "          document.querySelector('#df-410815c3-95cf-461d-a3e8-e9b8af032c07 button.colab-df-convert');\n",
              "        buttonEl.style.display =\n",
              "          google.colab.kernel.accessAllowed ? 'block' : 'none';\n",
              "\n",
              "        async function convertToInteractive(key) {\n",
              "          const element = document.querySelector('#df-410815c3-95cf-461d-a3e8-e9b8af032c07');\n",
              "          const dataTable =\n",
              "            await google.colab.kernel.invokeFunction('convertToInteractive',\n",
              "                                                     [key], {});\n",
              "          if (!dataTable) return;\n",
              "\n",
              "          const docLinkHtml = 'Like what you see? Visit the ' +\n",
              "            '<a target=\"_blank\" href=https://colab.research.google.com/notebooks/data_table.ipynb>data table notebook</a>'\n",
              "            + ' to learn more about interactive tables.';\n",
              "          element.innerHTML = '';\n",
              "          dataTable['output_type'] = 'display_data';\n",
              "          await google.colab.output.renderOutput(dataTable, element);\n",
              "          const docLink = document.createElement('div');\n",
              "          docLink.innerHTML = docLinkHtml;\n",
              "          element.appendChild(docLink);\n",
              "        }\n",
              "      </script>\n",
              "    </div>\n",
              "  </div>\n",
              "  "
            ]
          },
          "metadata": {}
        }
      ]
    }
  ]
}